{
  "cells": [
    {
      "cell_type": "code",
      "execution_count": 1,
      "id": "85eec710-5191-42ee-8805-5551a3fa41f2",
      "metadata": {
        "id": "85eec710-5191-42ee-8805-5551a3fa41f2"
      },
      "outputs": [],
      "source": [
        "import torch\n",
        "import torch.nn as nn\n",
        "from collections import OrderedDict\n",
        "from torch.utils.data import DataLoader, TensorDataset\n",
        "import matplotlib.pyplot as plt\n",
        "import numpy as np\n",
        "import pandas as pd\n",
        "import torch.optim as optim\n",
        "import torch.nn.utils as utils"
      ]
    },
    {
      "cell_type": "markdown",
      "id": "5a84b5a8-5002-487e-b152-3c91da4af6ea",
      "metadata": {
        "id": "5a84b5a8-5002-487e-b152-3c91da4af6ea"
      },
      "source": [
        "# Importing Data"
      ]
    },
    {
      "cell_type": "code",
      "execution_count": 2,
      "id": "7b5e2238-416b-488c-bca4-cd6b5bcc2a77",
      "metadata": {
        "id": "7b5e2238-416b-488c-bca4-cd6b5bcc2a77"
      },
      "outputs": [],
      "source": [
        "import tensorflow_datasets as tfds\n",
        "train_ds, test_ds = tfds.load('BinaryAlphaDigits',\n",
        "                              split=['train[:80%]', 'train[80%:]'])"
      ]
    },
    {
      "cell_type": "code",
      "execution_count": 3,
      "id": "13940347-3976-402b-b36f-ed1216d5dded",
      "metadata": {
        "id": "13940347-3976-402b-b36f-ed1216d5dded"
      },
      "outputs": [],
      "source": [
        "def labels_to_np(ds):\n",
        "    labels = []\n",
        "    for item in tfds.as_numpy(ds):\n",
        "        label = item['label']\n",
        "        labels.append(label)\n",
        "    return np.array(labels)\n",
        "\n",
        "# Convert datasets to numpy arrays (images only)\n",
        "y_train = labels_to_np(train_ds)\n",
        "y_test = labels_to_np(test_ds)\n"
      ]
    },
    {
      "cell_type": "code",
      "execution_count": 4,
      "id": "a7b9497c-47f1-4929-a875-415f22d01af5",
      "metadata": {
        "tags": [],
        "id": "a7b9497c-47f1-4929-a875-415f22d01af5"
      },
      "outputs": [],
      "source": [
        "def dataset_to_numpy_images_only(ds):\n",
        "    images = []\n",
        "    for item in tfds.as_numpy(ds):\n",
        "        image = item['image']\n",
        "        images.append(image)\n",
        "    return np.array(images)\n",
        "\n",
        "# Convert datasets to numpy arrays (images only)\n",
        "X_train = dataset_to_numpy_images_only(train_ds)\n",
        "X_test = dataset_to_numpy_images_only(test_ds)\n"
      ]
    },
    {
      "cell_type": "code",
      "execution_count": 5,
      "id": "4a5474d0-ea45-404a-9c20-0d7205c72c8b",
      "metadata": {
        "id": "4a5474d0-ea45-404a-9c20-0d7205c72c8b"
      },
      "outputs": [],
      "source": [
        "X_train_tensor = torch.from_numpy(X_train)\n",
        "y_train_tensor = torch.from_numpy(y_train)\n",
        "X_test_tensor = torch.from_numpy(X_test)\n",
        "y_test_tensor = torch.from_numpy(y_test)"
      ]
    },
    {
      "cell_type": "code",
      "execution_count": 6,
      "id": "a8038aa6-cfbf-4ddb-95f3-a3185687fe02",
      "metadata": {
        "colab": {
          "base_uri": "https://localhost:8080/",
          "height": 238
        },
        "id": "a8038aa6-cfbf-4ddb-95f3-a3185687fe02",
        "outputId": "3a424198-87c7-45ee-c424-e5d8cd3071f1"
      },
      "outputs": [
        {
          "output_type": "display_data",
          "data": {
            "text/plain": [
              "<Figure size 960x720 with 5 Axes>"
            ],
            "image/png": "[encoded data removed]"
          },
          "metadata": {}
        }
      ],
      "source": [
        "num_images_to_show = 5\n",
        "random_indices = np.random.randint(0, len(X_train), num_images_to_show)\n",
        "plt.figure(dpi=150)\n",
        "\n",
        "# Plotting the images\n",
        "for i, idx in enumerate(random_indices, 1):\n",
        "    plt.subplot(1, num_images_to_show, i)\n",
        "    plt.imshow(X_train[idx].squeeze(), cmap='gray')\n",
        "    plt.title(f\"Label: {y_train[idx]}\")\n",
        "    plt.axis('off')\n",
        "\n",
        "plt.show()"
      ]
    },
    {
      "cell_type": "code",
      "execution_count": 7,
      "id": "9d6f81bc-47c5-44ab-a43d-62b7a550a9bc",
      "metadata": {
        "tags": [],
        "colab": {
          "base_uri": "https://localhost:8080/",
          "height": 89
        },
        "id": "9d6f81bc-47c5-44ab-a43d-62b7a550a9bc",
        "outputId": "1763cda6-241a-45dc-9364-bb06d999bb66"
      },
      "outputs": [
        {
          "output_type": "execute_result",
          "data": {
            "text/plain": [
              "Empty DataFrame\n",
              "Columns: [Model, Accuracy, Loss]\n",
              "Index: []"
            ],
            "text/html": [
              "\n",
              "  <div id=\"df-ee0cfe60-8d8e-4232-95ff-a7282fb982b8\" class=\"colab-df-container\">\n",
              "    <div>\n",
              "<style scoped>\n",
              "    .dataframe tbody tr th:only-of-type {\n",
              "        vertical-align: middle;\n",
              "    }\n",
              "\n",
              "    .dataframe tbody tr th {\n",
              "        vertical-align: top;\n",
              "    }\n",
              "\n",
              "    .dataframe thead th {\n",
              "        text-align: right;\n",
              "    }\n",
              "</style>\n",
              "<table border=\"1\" class=\"dataframe\">\n",
              "  <thead>\n",
              "    <tr style=\"text-align: right;\">\n",
              "      <th></th>\n",
              "      <th>Model</th>\n",
              "      <th>Accuracy</th>\n",
              "      <th>Loss</th>\n",
              "    </tr>\n",
              "  </thead>\n",
              "  <tbody>\n",
              "  </tbody>\n",
              "</table>\n",
              "</div>\n",
              "    <div class=\"colab-df-buttons\">\n",
              "\n",
              "  <div class=\"colab-df-container\">\n",
              "    <button class=\"colab-df-convert\" onclick=\"convertToInteractive('df-ee0cfe60-8d8e-4232-95ff-a7282fb982b8')\"\n",
              "            title=\"Convert this dataframe to an interactive table.\"\n",
              "            style=\"display:none;\">\n",
              "\n",
              "  <svg xmlns=\"http://www.w3.org/2000/svg\" height=\"24px\" viewBox=\"0 -960 960 960\">\n",
              "    <path d=\"M120-120v-720h720v720H120Zm60-500h600v-160H180v160Zm220 220h160v-160H400v160Zm0 220h160v-160H400v160ZM180-400h160v-160H180v160Zm440 0h160v-160H620v160ZM180-180h160v-160H180v160Zm440 0h160v-160H620v160Z\"/>\n",
              "  </svg>\n",
              "    </button>\n",
              "\n",
              "  <style>\n",
              "    .colab-df-container {\n",
              "      display:flex;\n",
              "      gap: 12px;\n",
              "    }\n",
              "\n",
              "    .colab-df-convert {\n",
              "      background-color: #E8F0FE;\n",
              "      border: none;\n",
              "      border-radius: 50%;\n",
              "      cursor: pointer;\n",
              "      display: none;\n",
              "      fill: #1967D2;\n",
              "      height: 32px;\n",
              "      padding: 0 0 0 0;\n",
              "      width: 32px;\n",
              "    }\n",
              "\n",
              "    .colab-df-convert:hover {\n",
              "      background-color: #E2EBFA;\n",
              "      box-shadow: 0px 1px 2px rgba(60, 64, 67, 0.3), 0px 1px 3px 1px rgba(60, 64, 67, 0.15);\n",
              "      fill: #174EA6;\n",
              "    }\n",
              "\n",
              "    .colab-df-buttons div {\n",
              "      margin-bottom: 4px;\n",
              "    }\n",
              "\n",
              "    [theme=dark] .colab-df-convert {\n",
              "      background-color: #3B4455;\n",
              "      fill: #D2E3FC;\n",
              "    }\n",
              "\n",
              "    [theme=dark] .colab-df-convert:hover {\n",
              "      background-color: #434B5C;\n",
              "      box-shadow: 0px 1px 3px 1px rgba(0, 0, 0, 0.15);\n",
              "      filter: drop-shadow(0px 1px 2px rgba(0, 0, 0, 0.3));\n",
              "      fill: #FFFFFF;\n",
              "    }\n",
              "  </style>\n",
              "\n",
              "    <script>\n",
              "      const buttonEl =\n",
              "        document.querySelector('#df-ee0cfe60-8d8e-4232-95ff-a7282fb982b8 button.colab-df-convert');\n",
              "      buttonEl.style.display =\n",
              "        google.colab.kernel.accessAllowed ? 'block' : 'none';\n",
              "\n",
              "      async function convertToInteractive(key) {\n",
              "        const element = document.querySelector('#df-ee0cfe60-8d8e-4232-95ff-a7282fb982b8');\n",
              "        const dataTable =\n",
              "          await google.colab.kernel.invokeFunction('convertToInteractive',\n",
              "                                                    [key], {});\n",
              "        if (!dataTable) return;\n",
              "\n",
              "        const docLinkHtml = 'Like what you see? Visit the ' +\n",
              "          '<a target=\"_blank\" href=https://colab.research.google.com/notebooks/data_table.ipynb>data table notebook</a>'\n",
              "          + ' to learn more about interactive tables.';\n",
              "        element.innerHTML = '';\n",
              "        dataTable['output_type'] = 'display_data';\n",
              "        await google.colab.output.renderOutput(dataTable, element);\n",
              "        const docLink = document.createElement('div');\n",
              "        docLink.innerHTML = docLinkHtml;\n",
              "        element.appendChild(docLink);\n",
              "      }\n",
              "    </script>\n",
              "  </div>\n",
              "\n",
              "\n",
              "  <div id=\"id_677a4a58-4118-462a-aa14-6fd13feee763\">\n",
              "    <style>\n",
              "      .colab-df-generate {\n",
              "        background-color: #E8F0FE;\n",
              "        border: none;\n",
              "        border-radius: 50%;\n",
              "        cursor: pointer;\n",
              "        display: none;\n",
              "        fill: #1967D2;\n",
              "        height: 32px;\n",
              "        padding: 0 0 0 0;\n",
              "        width: 32px;\n",
              "      }\n",
              "\n",
              "      .colab-df-generate:hover {\n",
              "        background-color: #E2EBFA;\n",
              "        box-shadow: 0px 1px 2px rgba(60, 64, 67, 0.3), 0px 1px 3px 1px rgba(60, 64, 67, 0.15);\n",
              "        fill: #174EA6;\n",
              "      }\n",
              "\n",
              "      [theme=dark] .colab-df-generate {\n",
              "        background-color: #3B4455;\n",
              "        fill: #D2E3FC;\n",
              "      }\n",
              "\n",
              "      [theme=dark] .colab-df-generate:hover {\n",
              "        background-color: #434B5C;\n",
              "        box-shadow: 0px 1px 3px 1px rgba(0, 0, 0, 0.15);\n",
              "        filter: drop-shadow(0px 1px 2px rgba(0, 0, 0, 0.3));\n",
              "        fill: #FFFFFF;\n",
              "      }\n",
              "    </style>\n",
              "    <button class=\"colab-df-generate\" onclick=\"generateWithVariable('results')\"\n",
              "            title=\"Generate code using this dataframe.\"\n",
              "            style=\"display:none;\">\n",
              "\n",
              "  <svg xmlns=\"http://www.w3.org/2000/svg\" height=\"24px\"viewBox=\"0 0 24 24\"\n",
              "       width=\"24px\">\n",
              "    <path d=\"M7,19H8.4L18.45,9,17,7.55,7,17.6ZM5,21V16.75L18.45,3.32a2,2,0,0,1,2.83,0l1.4,1.43a1.91,1.91,0,0,1,.58,1.4,1.91,1.91,0,0,1-.58,1.4L9.25,21ZM18.45,9,17,7.55Zm-12,3A5.31,5.31,0,0,0,4.9,8.1,5.31,5.31,0,0,0,1,6.5,5.31,5.31,0,0,0,4.9,4.9,5.31,5.31,0,0,0,6.5,1,5.31,5.31,0,0,0,8.1,4.9,5.31,5.31,0,0,0,12,6.5,5.46,5.46,0,0,0,6.5,12Z\"/>\n",
              "  </svg>\n",
              "    </button>\n",
              "    <script>\n",
              "      (() => {\n",
              "      const buttonEl =\n",
              "        document.querySelector('#id_677a4a58-4118-462a-aa14-6fd13feee763 button.colab-df-generate');\n",
              "      buttonEl.style.display =\n",
              "        google.colab.kernel.accessAllowed ? 'block' : 'none';\n",
              "\n",
              "      buttonEl.onclick = () => {\n",
              "        google.colab.notebook.generateWithVariable('results');\n",
              "      }\n",
              "      })();\n",
              "    </script>\n",
              "  </div>\n",
              "\n",
              "    </div>\n",
              "  </div>\n"
            ]
          },
          "metadata": {},
          "execution_count": 7
        }
      ],
      "source": [
        "results = pd.DataFrame(columns=['Model', 'Accuracy', 'Loss'])\n",
        "results"
      ]
    },
    {
      "cell_type": "markdown",
      "id": "dba987f1-5ad0-4d02-af37-28b840a04841",
      "metadata": {
        "id": "dba987f1-5ad0-4d02-af37-28b840a04841"
      },
      "source": [
        "# Dropout NN (Logistic)"
      ]
    },
    {
      "cell_type": "code",
      "execution_count": 8,
      "id": "5cd6b5d8-32fb-421a-8ea1-dcd230e1ec40",
      "metadata": {
        "tags": [],
        "id": "5cd6b5d8-32fb-421a-8ea1-dcd230e1ec40"
      },
      "outputs": [],
      "source": [
        "train_dataset = TensorDataset(X_train_tensor, y_train_tensor)\n",
        "test_dataset = TensorDataset(X_test_tensor, y_test_tensor)\n",
        "\n",
        "train_loader = DataLoader(train_dataset, batch_size=64, shuffle=True)\n",
        "test_loader = DataLoader(test_dataset, batch_size=64, shuffle=False)"
      ]
    },
    {
      "cell_type": "code",
      "execution_count": 9,
      "id": "fc4e4fb0-d51c-4810-ac42-053e25c63131",
      "metadata": {
        "colab": {
          "base_uri": "https://localhost:8080/"
        },
        "id": "fc4e4fb0-d51c-4810-ac42-053e25c63131",
        "outputId": "f9f8e8b3-9b7b-4f3c-d949-521ff533aa15"
      },
      "outputs": [
        {
          "output_type": "stream",
          "name": "stdout",
          "text": [
            "Sequential(\n",
            "  (flatten): Flatten(start_dim=1, end_dim=-1)\n",
            "  (linear1): Linear(in_features=320, out_features=800, bias=True)\n",
            "  (logistic1): Sigmoid()\n",
            "  (dropout1): Dropout(p=0.5, inplace=False)\n",
            "  (linear2): Linear(in_features=800, out_features=800, bias=True)\n",
            "  (logistic2): Sigmoid()\n",
            "  (dropout2): Dropout(p=0.5, inplace=False)\n",
            "  (linear3): Linear(in_features=800, out_features=36, bias=True)\n",
            ")\n"
          ]
        }
      ],
      "source": [
        "net = nn.Sequential(\n",
        "    OrderedDict([\n",
        "        ('flatten', nn.Flatten()),\n",
        "        ('linear1', nn.Linear(320, 800)),\n",
        "        ('logistic1', nn.Sigmoid()),\n",
        "        ('dropout1', nn.Dropout(0.5)),\n",
        "        ('linear2', nn.Linear(800, 800)),\n",
        "        ('logistic2', nn.Sigmoid()),\n",
        "        ('dropout2', nn.Dropout(0.5)),\n",
        "        ('linear3', nn.Linear(800, 36)),\n",
        "    ])\n",
        ")\n",
        "print(net)\n",
        "\n",
        "criterion = nn.CrossEntropyLoss()\n",
        "optimizer = optim.SGD(net.parameters(), lr=0.1, momentum=0.5)\n",
        "\n",
        "train_loss_list2 = list()\n",
        "train_acc_list2 = list()\n",
        "valid_loss_list2 = list()\n",
        "valid_acc_list2 = list()"
      ]
    },
    {
      "cell_type": "code",
      "execution_count": 10,
      "id": "49e3eb31-7b60-4ef1-953f-c1d1a71d5547",
      "metadata": {
        "colab": {
          "base_uri": "https://localhost:8080/"
        },
        "id": "49e3eb31-7b60-4ef1-953f-c1d1a71d5547",
        "outputId": "e0d775ae-dac3-4731-8bae-2a7a6512a319"
      },
      "outputs": [
        {
          "output_type": "execute_result",
          "data": {
            "text/plain": [
              "Sequential(\n",
              "  (flatten): Flatten(start_dim=1, end_dim=-1)\n",
              "  (linear1): Linear(in_features=320, out_features=800, bias=True)\n",
              "  (logistic1): Sigmoid()\n",
              "  (dropout1): Dropout(p=0.5, inplace=False)\n",
              "  (linear2): Linear(in_features=800, out_features=800, bias=True)\n",
              "  (logistic2): Sigmoid()\n",
              "  (dropout2): Dropout(p=0.5, inplace=False)\n",
              "  (linear3): Linear(in_features=800, out_features=36, bias=True)\n",
              ")"
            ]
          },
          "metadata": {},
          "execution_count": 10
        }
      ],
      "source": [
        "torch.cuda.empty_cache()\n",
        "device = torch.device(\"cuda\" if torch.cuda.is_available() else \"cpu\")\n",
        "#torch.cuda.set_per_process_memory_fraction(0.8, device=device.index)\n",
        "net.to(device)"
      ]
    },
    {
      "cell_type": "code",
      "execution_count": 11,
      "id": "1e29992a-c7ef-47c3-b32f-3926048f9639",
      "metadata": {
        "colab": {
          "base_uri": "https://localhost:8080/"
        },
        "id": "1e29992a-c7ef-47c3-b32f-3926048f9639",
        "outputId": "69a84925-600f-4061-ecb3-c8a81e098d5a"
      },
      "outputs": [
        {
          "output_type": "stream",
          "name": "stdout",
          "text": [
            "Epoch 1/500, Train Loss: 3.8128, Train Acc: 0.0232, \n",
            "Epoch 21/500, Train Loss: 3.4898, Train Acc: 0.0543, \n",
            "Epoch 41/500, Train Loss: 2.1024, Train Acc: 0.3535, \n",
            "Epoch 61/500, Train Loss: 1.4359, Train Acc: 0.5272, \n",
            "Epoch 81/500, Train Loss: 1.0839, Train Acc: 0.6402, \n",
            "Epoch 101/500, Train Loss: 0.8697, Train Acc: 0.7070, \n",
            "Epoch 121/500, Train Loss: 0.7568, Train Acc: 0.7400, \n",
            "Epoch 141/500, Train Loss: 0.5925, Train Acc: 0.7916, \n",
            "Epoch 161/500, Train Loss: 0.5366, Train Acc: 0.8085, \n",
            "Epoch 181/500, Train Loss: 0.4912, Train Acc: 0.8281, \n",
            "Epoch 201/500, Train Loss: 0.4185, Train Acc: 0.8459, \n",
            "Epoch 221/500, Train Loss: 0.3659, Train Acc: 0.8682, \n",
            "Epoch 241/500, Train Loss: 0.3323, Train Acc: 0.8771, \n",
            "Epoch 261/500, Train Loss: 0.2844, Train Acc: 0.8896, \n",
            "Epoch 281/500, Train Loss: 0.2800, Train Acc: 0.8976, \n",
            "Epoch 301/500, Train Loss: 0.2443, Train Acc: 0.9029, \n",
            "Epoch 321/500, Train Loss: 0.2317, Train Acc: 0.9207, \n",
            "Epoch 341/500, Train Loss: 0.2051, Train Acc: 0.9145, \n",
            "Epoch 361/500, Train Loss: 0.1788, Train Acc: 0.9323, \n",
            "Epoch 381/500, Train Loss: 0.1420, Train Acc: 0.9475, \n",
            "Epoch 401/500, Train Loss: 0.1463, Train Acc: 0.9492, \n",
            "Epoch 421/500, Train Loss: 0.1566, Train Acc: 0.9457, \n",
            "Epoch 441/500, Train Loss: 0.1390, Train Acc: 0.9484, \n",
            "Epoch 461/500, Train Loss: 0.1352, Train Acc: 0.9492, \n",
            "Epoch 481/500, Train Loss: 0.1337, Train Acc: 0.9484, \n",
            "Finished Training\n"
          ]
        }
      ],
      "source": [
        "num_epochs = 500\n",
        "seed = 42\n",
        "torch.manual_seed(seed)\n",
        "\n",
        "for epoch in range(num_epochs):\n",
        "    net.train()\n",
        "    running_loss = 0.0\n",
        "    correct_train = 0\n",
        "    total_train = 0\n",
        "\n",
        "    for inputs, labels in train_loader:\n",
        "        optimizer.zero_grad()\n",
        "        inputs = inputs.float()\n",
        "        inputs, labels = inputs.to(device), labels.to(device)\n",
        "        outputs = net(inputs)\n",
        "        loss = criterion(outputs, labels)\n",
        "        loss.backward()\n",
        "        optimizer.step()\n",
        "\n",
        "        running_loss += loss.item()\n",
        "\n",
        "        _, predicted = torch.max(outputs, 1)\n",
        "        total_train += labels.size(0)\n",
        "        correct_train += (predicted == labels).sum().item()\n",
        "\n",
        "    train_accuracy = correct_train / total_train\n",
        "    train_loss = running_loss / len(train_loader)\n",
        "\n",
        "\n",
        "\n",
        "    train_loss_list2.append(train_loss)\n",
        "    train_acc_list2.append(train_accuracy)\n",
        "\n",
        "\n",
        "    if epoch%20==0:\n",
        "        print(f'Epoch {epoch + 1}/{num_epochs}, ' +\n",
        "              f'Train Loss: {train_loss:.4f}, Train Acc: {train_accuracy:.4f}, ')\n",
        "\n",
        "print('Finished Training')"
      ]
    },
    {
      "cell_type": "code",
      "execution_count": 12,
      "id": "bba70ef6-9352-45ca-8b31-331b64566a9b",
      "metadata": {
        "colab": {
          "base_uri": "https://localhost:8080/"
        },
        "id": "bba70ef6-9352-45ca-8b31-331b64566a9b",
        "outputId": "ddeaecea-e597-4279-9ce4-c266cb937b47"
      },
      "outputs": [
        {
          "output_type": "stream",
          "name": "stdout",
          "text": [
            "Test Loss: 1.1710, Test Acc: 0.6726\n"
          ]
        }
      ],
      "source": [
        "net.eval()\n",
        "running_loss_test = 0.0\n",
        "correct_test = 0\n",
        "total_test = 0\n",
        "\n",
        "with torch.no_grad():\n",
        "    for inputs_test, labels_test in test_loader:\n",
        "        inputs_test = inputs_test.float()\n",
        "        inputs_test, labels_test = inputs_test.to(device), labels_test.to(device)\n",
        "        outputs_test = net(inputs_test)\n",
        "        loss_test = criterion(outputs_test, labels_test)\n",
        "        running_loss_test += loss_test.item()\n",
        "\n",
        "        _, predicted_test = torch.max(outputs_test.data, 1)\n",
        "        total_test += labels_test.size(0)\n",
        "        correct_test += (predicted_test == labels_test).sum().item()\n",
        "\n",
        "test_accuracy = correct_test / total_test\n",
        "test_loss = running_loss_test / len(test_loader)\n",
        "\n",
        "print(f'Test Loss: {test_loss:.4f}, Test Acc: {test_accuracy:.4f}')\n",
        "\n"
      ]
    },
    {
      "cell_type": "code",
      "execution_count": 13,
      "id": "71098e9f-cc01-40ae-b096-8294ff52a441",
      "metadata": {
        "colab": {
          "base_uri": "https://localhost:8080/"
        },
        "id": "71098e9f-cc01-40ae-b096-8294ff52a441",
        "outputId": "d3e77b94-b5a3-46ba-9e8f-1003758e88f8"
      },
      "outputs": [
        {
          "output_type": "execute_result",
          "data": {
            "text/plain": [
              "torch.Size([25])"
            ]
          },
          "metadata": {},
          "execution_count": 13
        }
      ],
      "source": [
        "predicted_test.shape"
      ]
    },
    {
      "cell_type": "code",
      "source": [
        "labels_test.shape"
      ],
      "metadata": {
        "colab": {
          "base_uri": "https://localhost:8080/"
        },
        "id": "jYciELVJKOYO",
        "outputId": "3371deff-923b-44cc-a8b9-a9730445947f"
      },
      "id": "jYciELVJKOYO",
      "execution_count": 14,
      "outputs": [
        {
          "output_type": "execute_result",
          "data": {
            "text/plain": [
              "torch.Size([25])"
            ]
          },
          "metadata": {},
          "execution_count": 14
        }
      ]
    },
    {
      "cell_type": "code",
      "source": [],
      "metadata": {
        "id": "AAeaazAQKPvx"
      },
      "id": "AAeaazAQKPvx",
      "execution_count": null,
      "outputs": []
    }
  ],
  "metadata": {
    "kernelspec": {
      "display_name": "Python 3",
      "name": "python3"
    },
    "language_info": {
      "codemirror_mode": {
        "name": "ipython",
        "version": 3
      },
      "file_extension": ".py",
      "mimetype": "text/x-python",
      "name": "python",
      "nbconvert_exporter": "python",
      "pygments_lexer": "ipython3",
      "version": "3.11.5"
    },
    "colab": {
      "provenance": [],
      "machine_shape": "hm",
      "gpuType": "A100"
    },
    "accelerator": "GPU"
  },
  "nbformat": 4,
  "nbformat_minor": 5
}