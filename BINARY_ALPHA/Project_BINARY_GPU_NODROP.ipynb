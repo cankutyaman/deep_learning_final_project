{
  "cells": [
    {
      "cell_type": "code",
      "execution_count": 1,
      "id": "85eec710-5191-42ee-8805-5551a3fa41f2",
      "metadata": {
        "id": "85eec710-5191-42ee-8805-5551a3fa41f2"
      },
      "outputs": [],
      "source": [
        "import torch\n",
        "import torch.nn as nn\n",
        "from collections import OrderedDict\n",
        "from torch.utils.data import DataLoader, TensorDataset\n",
        "import matplotlib.pyplot as plt\n",
        "import numpy as np\n",
        "import pandas as pd\n",
        "import torch.optim as optim\n",
        "import torch.nn.utils as utils"
      ]
    },
    {
      "cell_type": "markdown",
      "id": "5a84b5a8-5002-487e-b152-3c91da4af6ea",
      "metadata": {
        "id": "5a84b5a8-5002-487e-b152-3c91da4af6ea"
      },
      "source": [
        "# Importing Data"
      ]
    },
    {
      "cell_type": "code",
      "execution_count": 2,
      "id": "7b5e2238-416b-488c-bca4-cd6b5bcc2a77",
      "metadata": {
        "id": "7b5e2238-416b-488c-bca4-cd6b5bcc2a77"
      },
      "outputs": [],
      "source": [
        "import tensorflow_datasets as tfds\n",
        "train_ds, test_ds = tfds.load('BinaryAlphaDigits',\n",
        "                              split=['train[:80%]', 'train[80%:]'])"
      ]
    },
    {
      "cell_type": "code",
      "source": [
        "def dataset_to_numpy_images_only(ds):\n",
        "    images = []\n",
        "    for item in tfds.as_numpy(ds):\n",
        "        image = item['image']\n",
        "        images.append(image)\n",
        "    return np.array(images)\n",
        "\n",
        "# Convert datasets to numpy arrays (images only)\n",
        "X_train = dataset_to_numpy_images_only(train_ds)\n",
        "X_test = dataset_to_numpy_images_only(test_ds)\n"
      ],
      "metadata": {
        "id": "q0p--xViD0OE"
      },
      "id": "q0p--xViD0OE",
      "execution_count": 3,
      "outputs": []
    },
    {
      "cell_type": "code",
      "source": [
        "def labels_to_np(ds):\n",
        "    labels = []\n",
        "    for item in tfds.as_numpy(ds):\n",
        "        label = item['label']\n",
        "        labels.append(label)\n",
        "    return np.array(labels)\n",
        "\n",
        "# Convert datasets to numpy arrays (images only)\n",
        "y_train = labels_to_np(train_ds)\n",
        "y_test = labels_to_np(test_ds)\n"
      ],
      "metadata": {
        "id": "JZn3boZHEJ3q"
      },
      "id": "JZn3boZHEJ3q",
      "execution_count": 4,
      "outputs": []
    },
    {
      "cell_type": "code",
      "source": [
        "X_train.shape"
      ],
      "metadata": {
        "colab": {
          "base_uri": "https://localhost:8080/"
        },
        "id": "q_gVcdrCFB0M",
        "outputId": "8ad4ce60-83cc-4ed8-d739-c8a3eb551c0e"
      },
      "id": "q_gVcdrCFB0M",
      "execution_count": 5,
      "outputs": [
        {
          "output_type": "execute_result",
          "data": {
            "text/plain": [
              "(1123, 20, 16, 1)"
            ]
          },
          "metadata": {},
          "execution_count": 5
        }
      ]
    },
    {
      "cell_type": "code",
      "execution_count": 6,
      "id": "4a5474d0-ea45-404a-9c20-0d7205c72c8b",
      "metadata": {
        "id": "4a5474d0-ea45-404a-9c20-0d7205c72c8b"
      },
      "outputs": [],
      "source": [
        "X_train_tensor = torch.from_numpy(X_train)\n",
        "y_train_tensor = torch.from_numpy(y_train)\n",
        "X_test_tensor = torch.from_numpy(X_test)\n",
        "y_test_tensor = torch.from_numpy(y_test)"
      ]
    },
    {
      "cell_type": "code",
      "source": [
        "X_train_tensor.shape"
      ],
      "metadata": {
        "colab": {
          "base_uri": "https://localhost:8080/"
        },
        "id": "QMr9yeMYFewE",
        "outputId": "6ff338e1-dd2f-4dd9-be63-70786c8ffc5b"
      },
      "id": "QMr9yeMYFewE",
      "execution_count": 7,
      "outputs": [
        {
          "output_type": "execute_result",
          "data": {
            "text/plain": [
              "torch.Size([1123, 20, 16, 1])"
            ]
          },
          "metadata": {},
          "execution_count": 7
        }
      ]
    },
    {
      "cell_type": "code",
      "execution_count": 8,
      "id": "a8038aa6-cfbf-4ddb-95f3-a3185687fe02",
      "metadata": {
        "colab": {
          "base_uri": "https://localhost:8080/",
          "height": 238
        },
        "id": "a8038aa6-cfbf-4ddb-95f3-a3185687fe02",
        "outputId": "917c402f-293b-410c-e48f-dde5d69a7390"
      },
      "outputs": [
        {
          "output_type": "display_data",
          "data": {
            "text/plain": [
              "<Figure size 960x720 with 5 Axes>"
            ],
            "image/png": "[encoded data removed]"
          },
          "metadata": {}
        }
      ],
      "source": [
        "num_images_to_show = 5\n",
        "random_indices = np.random.randint(0, len(X_train), num_images_to_show)\n",
        "plt.figure(dpi=150)\n",
        "\n",
        "# Plotting the images\n",
        "for i, idx in enumerate(random_indices, 1):\n",
        "    plt.subplot(1, num_images_to_show, i)\n",
        "    plt.imshow(X_train[idx].squeeze(), cmap='gray')\n",
        "    plt.title(f\"Label: {y_train[idx]}\")\n",
        "    plt.axis('off')\n",
        "\n",
        "plt.show()"
      ]
    },
    {
      "cell_type": "code",
      "execution_count": 9,
      "id": "9d6f81bc-47c5-44ab-a43d-62b7a550a9bc",
      "metadata": {
        "tags": [],
        "colab": {
          "base_uri": "https://localhost:8080/",
          "height": 89
        },
        "id": "9d6f81bc-47c5-44ab-a43d-62b7a550a9bc",
        "outputId": "7cd9a9b1-9343-48c7-923a-fae9731b6cad"
      },
      "outputs": [
        {
          "output_type": "execute_result",
          "data": {
            "text/plain": [
              "Empty DataFrame\n",
              "Columns: [Model, Accuracy, Loss]\n",
              "Index: []"
            ],
            "text/html": [
              "\n",
              "  <div id=\"df-6fa56bb0-6f1e-41bd-9dd3-aa955f9d38f5\" class=\"colab-df-container\">\n",
              "    <div>\n",
              "<style scoped>\n",
              "    .dataframe tbody tr th:only-of-type {\n",
              "        vertical-align: middle;\n",
              "    }\n",
              "\n",
              "    .dataframe tbody tr th {\n",
              "        vertical-align: top;\n",
              "    }\n",
              "\n",
              "    .dataframe thead th {\n",
              "        text-align: right;\n",
              "    }\n",
              "</style>\n",
              "<table border=\"1\" class=\"dataframe\">\n",
              "  <thead>\n",
              "    <tr style=\"text-align: right;\">\n",
              "      <th></th>\n",
              "      <th>Model</th>\n",
              "      <th>Accuracy</th>\n",
              "      <th>Loss</th>\n",
              "    </tr>\n",
              "  </thead>\n",
              "  <tbody>\n",
              "  </tbody>\n",
              "</table>\n",
              "</div>\n",
              "    <div class=\"colab-df-buttons\">\n",
              "\n",
              "  <div class=\"colab-df-container\">\n",
              "    <button class=\"colab-df-convert\" onclick=\"convertToInteractive('df-6fa56bb0-6f1e-41bd-9dd3-aa955f9d38f5')\"\n",
              "            title=\"Convert this dataframe to an interactive table.\"\n",
              "            style=\"display:none;\">\n",
              "\n",
              "  <svg xmlns=\"http://www.w3.org/2000/svg\" height=\"24px\" viewBox=\"0 -960 960 960\">\n",
              "    <path d=\"M120-120v-720h720v720H120Zm60-500h600v-160H180v160Zm220 220h160v-160H400v160Zm0 220h160v-160H400v160ZM180-400h160v-160H180v160Zm440 0h160v-160H620v160ZM180-180h160v-160H180v160Zm440 0h160v-160H620v160Z\"/>\n",
              "  </svg>\n",
              "    </button>\n",
              "\n",
              "  <style>\n",
              "    .colab-df-container {\n",
              "      display:flex;\n",
              "      gap: 12px;\n",
              "    }\n",
              "\n",
              "    .colab-df-convert {\n",
              "      background-color: #E8F0FE;\n",
              "      border: none;\n",
              "      border-radius: 50%;\n",
              "      cursor: pointer;\n",
              "      display: none;\n",
              "      fill: #1967D2;\n",
              "      height: 32px;\n",
              "      padding: 0 0 0 0;\n",
              "      width: 32px;\n",
              "    }\n",
              "\n",
              "    .colab-df-convert:hover {\n",
              "      background-color: #E2EBFA;\n",
              "      box-shadow: 0px 1px 2px rgba(60, 64, 67, 0.3), 0px 1px 3px 1px rgba(60, 64, 67, 0.15);\n",
              "      fill: #174EA6;\n",
              "    }\n",
              "\n",
              "    .colab-df-buttons div {\n",
              "      margin-bottom: 4px;\n",
              "    }\n",
              "\n",
              "    [theme=dark] .colab-df-convert {\n",
              "      background-color: #3B4455;\n",
              "      fill: #D2E3FC;\n",
              "    }\n",
              "\n",
              "    [theme=dark] .colab-df-convert:hover {\n",
              "      background-color: #434B5C;\n",
              "      box-shadow: 0px 1px 3px 1px rgba(0, 0, 0, 0.15);\n",
              "      filter: drop-shadow(0px 1px 2px rgba(0, 0, 0, 0.3));\n",
              "      fill: #FFFFFF;\n",
              "    }\n",
              "  </style>\n",
              "\n",
              "    <script>\n",
              "      const buttonEl =\n",
              "        document.querySelector('#df-6fa56bb0-6f1e-41bd-9dd3-aa955f9d38f5 button.colab-df-convert');\n",
              "      buttonEl.style.display =\n",
              "        google.colab.kernel.accessAllowed ? 'block' : 'none';\n",
              "\n",
              "      async function convertToInteractive(key) {\n",
              "        const element = document.querySelector('#df-6fa56bb0-6f1e-41bd-9dd3-aa955f9d38f5');\n",
              "        const dataTable =\n",
              "          await google.colab.kernel.invokeFunction('convertToInteractive',\n",
              "                                                    [key], {});\n",
              "        if (!dataTable) return;\n",
              "\n",
              "        const docLinkHtml = 'Like what you see? Visit the ' +\n",
              "          '<a target=\"_blank\" href=https://colab.research.google.com/notebooks/data_table.ipynb>data table notebook</a>'\n",
              "          + ' to learn more about interactive tables.';\n",
              "        element.innerHTML = '';\n",
              "        dataTable['output_type'] = 'display_data';\n",
              "        await google.colab.output.renderOutput(dataTable, element);\n",
              "        const docLink = document.createElement('div');\n",
              "        docLink.innerHTML = docLinkHtml;\n",
              "        element.appendChild(docLink);\n",
              "      }\n",
              "    </script>\n",
              "  </div>\n",
              "\n",
              "\n",
              "  <div id=\"id_adbdec52-7b52-4419-be91-3a698cd7baa1\">\n",
              "    <style>\n",
              "      .colab-df-generate {\n",
              "        background-color: #E8F0FE;\n",
              "        border: none;\n",
              "        border-radius: 50%;\n",
              "        cursor: pointer;\n",
              "        display: none;\n",
              "        fill: #1967D2;\n",
              "        height: 32px;\n",
              "        padding: 0 0 0 0;\n",
              "        width: 32px;\n",
              "      }\n",
              "\n",
              "      .colab-df-generate:hover {\n",
              "        background-color: #E2EBFA;\n",
              "        box-shadow: 0px 1px 2px rgba(60, 64, 67, 0.3), 0px 1px 3px 1px rgba(60, 64, 67, 0.15);\n",
              "        fill: #174EA6;\n",
              "      }\n",
              "\n",
              "      [theme=dark] .colab-df-generate {\n",
              "        background-color: #3B4455;\n",
              "        fill: #D2E3FC;\n",
              "      }\n",
              "\n",
              "      [theme=dark] .colab-df-generate:hover {\n",
              "        background-color: #434B5C;\n",
              "        box-shadow: 0px 1px 3px 1px rgba(0, 0, 0, 0.15);\n",
              "        filter: drop-shadow(0px 1px 2px rgba(0, 0, 0, 0.3));\n",
              "        fill: #FFFFFF;\n",
              "      }\n",
              "    </style>\n",
              "    <button class=\"colab-df-generate\" onclick=\"generateWithVariable('results')\"\n",
              "            title=\"Generate code using this dataframe.\"\n",
              "            style=\"display:none;\">\n",
              "\n",
              "  <svg xmlns=\"http://www.w3.org/2000/svg\" height=\"24px\"viewBox=\"0 0 24 24\"\n",
              "       width=\"24px\">\n",
              "    <path d=\"M7,19H8.4L18.45,9,17,7.55,7,17.6ZM5,21V16.75L18.45,3.32a2,2,0,0,1,2.83,0l1.4,1.43a1.91,1.91,0,0,1,.58,1.4,1.91,1.91,0,0,1-.58,1.4L9.25,21ZM18.45,9,17,7.55Zm-12,3A5.31,5.31,0,0,0,4.9,8.1,5.31,5.31,0,0,0,1,6.5,5.31,5.31,0,0,0,4.9,4.9,5.31,5.31,0,0,0,6.5,1,5.31,5.31,0,0,0,8.1,4.9,5.31,5.31,0,0,0,12,6.5,5.46,5.46,0,0,0,6.5,12Z\"/>\n",
              "  </svg>\n",
              "    </button>\n",
              "    <script>\n",
              "      (() => {\n",
              "      const buttonEl =\n",
              "        document.querySelector('#id_adbdec52-7b52-4419-be91-3a698cd7baa1 button.colab-df-generate');\n",
              "      buttonEl.style.display =\n",
              "        google.colab.kernel.accessAllowed ? 'block' : 'none';\n",
              "\n",
              "      buttonEl.onclick = () => {\n",
              "        google.colab.notebook.generateWithVariable('results');\n",
              "      }\n",
              "      })();\n",
              "    </script>\n",
              "  </div>\n",
              "\n",
              "    </div>\n",
              "  </div>\n"
            ]
          },
          "metadata": {},
          "execution_count": 9
        }
      ],
      "source": [
        "results = pd.DataFrame(columns=['Model', 'Accuracy', 'Loss'])\n",
        "results"
      ]
    },
    {
      "cell_type": "markdown",
      "id": "5d5fbe75-7d24-4ec5-8779-27d86e72ea5f",
      "metadata": {
        "id": "5d5fbe75-7d24-4ec5-8779-27d86e72ea5f"
      },
      "source": [
        "# Standard Neural Net"
      ]
    },
    {
      "cell_type": "code",
      "execution_count": 10,
      "id": "3a254478-2bca-42cb-a298-7920200d5ee2",
      "metadata": {
        "tags": [],
        "id": "3a254478-2bca-42cb-a298-7920200d5ee2"
      },
      "outputs": [],
      "source": [
        "train_dataset = TensorDataset(X_train_tensor, y_train_tensor)\n",
        "test_dataset = TensorDataset(X_test_tensor, y_test_tensor)\n",
        "\n",
        "train_loader = DataLoader(train_dataset, batch_size=64, shuffle=True)\n",
        "test_loader = DataLoader(test_dataset, batch_size=64, shuffle=False)"
      ]
    },
    {
      "cell_type": "code",
      "source": [
        "len(np.unique(y_train))"
      ],
      "metadata": {
        "colab": {
          "base_uri": "https://localhost:8080/"
        },
        "id": "yx6fxMCXGFL4",
        "outputId": "ccb46239-8ede-4dc6-e56e-216575b24827"
      },
      "id": "yx6fxMCXGFL4",
      "execution_count": 11,
      "outputs": [
        {
          "output_type": "execute_result",
          "data": {
            "text/plain": [
              "36"
            ]
          },
          "metadata": {},
          "execution_count": 11
        }
      ]
    },
    {
      "cell_type": "code",
      "execution_count": 12,
      "id": "2225cabd-f675-4e10-b2b7-dad2b5d1db54",
      "metadata": {
        "colab": {
          "base_uri": "https://localhost:8080/"
        },
        "id": "2225cabd-f675-4e10-b2b7-dad2b5d1db54",
        "outputId": "b1269385-e222-46e2-c599-ce888b00dbec"
      },
      "outputs": [
        {
          "output_type": "stream",
          "name": "stdout",
          "text": [
            "Sequential(\n",
            "  (flatten): Flatten(start_dim=1, end_dim=-1)\n",
            "  (linear1): Linear(in_features=320, out_features=800, bias=True)\n",
            "  (logistic1): Sigmoid()\n",
            "  (linear2): Linear(in_features=800, out_features=800, bias=True)\n",
            "  (logistic2): Sigmoid()\n",
            "  (linear3): Linear(in_features=800, out_features=36, bias=True)\n",
            ")\n"
          ]
        }
      ],
      "source": [
        "net = nn.Sequential(\n",
        "    OrderedDict([\n",
        "        ('flatten', nn.Flatten()),\n",
        "        ('linear1', nn.Linear(320, 800)),\n",
        "        ('logistic1', nn.Sigmoid()),\n",
        "        ('linear2', nn.Linear(800, 800)),\n",
        "        ('logistic2', nn.Sigmoid()),\n",
        "        ('linear3', nn.Linear(800, 36)),\n",
        "    ])\n",
        ")\n",
        "\n",
        "print(net)\n",
        "\n",
        "criterion = nn.CrossEntropyLoss()\n",
        "optimizer = optim.SGD(net.parameters(), lr=0.1, momentum=0.5)\n",
        "\n",
        "train_loss_list1 = list()\n",
        "train_acc_list1 = list()\n",
        "valid_loss_list1 = list()\n",
        "valid_acc_list1 = list()"
      ]
    },
    {
      "cell_type": "code",
      "execution_count": 13,
      "id": "ced894cb-c6d3-4532-8f6a-3fabb190d5d7",
      "metadata": {
        "colab": {
          "base_uri": "https://localhost:8080/"
        },
        "id": "ced894cb-c6d3-4532-8f6a-3fabb190d5d7",
        "outputId": "502372a9-2df0-4b75-bb0b-7d19ba89a01b"
      },
      "outputs": [
        {
          "output_type": "execute_result",
          "data": {
            "text/plain": [
              "Sequential(\n",
              "  (flatten): Flatten(start_dim=1, end_dim=-1)\n",
              "  (linear1): Linear(in_features=320, out_features=800, bias=True)\n",
              "  (logistic1): Sigmoid()\n",
              "  (linear2): Linear(in_features=800, out_features=800, bias=True)\n",
              "  (logistic2): Sigmoid()\n",
              "  (linear3): Linear(in_features=800, out_features=36, bias=True)\n",
              ")"
            ]
          },
          "metadata": {},
          "execution_count": 13
        }
      ],
      "source": [
        "torch.cuda.empty_cache()\n",
        "device = torch.device(\"cuda\" if torch.cuda.is_available() else \"cpu\")\n",
        "#torch.cuda.set_per_process_memory_fraction(0.8, device=device.index)\n",
        "net.to(device)"
      ]
    },
    {
      "cell_type": "code",
      "execution_count": 14,
      "id": "23eb0a8f-1213-4cd7-a01e-3daca3525332",
      "metadata": {
        "colab": {
          "base_uri": "https://localhost:8080/"
        },
        "id": "23eb0a8f-1213-4cd7-a01e-3daca3525332",
        "outputId": "b4c13134-2f39-47b4-a0c4-9f407a707eef"
      },
      "outputs": [
        {
          "output_type": "stream",
          "name": "stdout",
          "text": [
            "Epoch 1/500, Train Loss: 3.7734, Train Acc: 0.0187, \n",
            "Epoch 21/500, Train Loss: 3.4015, Train Acc: 0.0917, \n",
            "Epoch 41/500, Train Loss: 1.6543, Train Acc: 0.5129, \n",
            "Epoch 61/500, Train Loss: 1.0260, Train Acc: 0.6910, \n",
            "Epoch 81/500, Train Loss: 0.7117, Train Acc: 0.7685, \n",
            "Epoch 101/500, Train Loss: 0.5263, Train Acc: 0.8326, \n",
            "Epoch 121/500, Train Loss: 0.3856, Train Acc: 0.8878, \n",
            "Epoch 141/500, Train Loss: 0.2953, Train Acc: 0.9110, \n",
            "Epoch 161/500, Train Loss: 0.2290, Train Acc: 0.9377, \n",
            "Epoch 181/500, Train Loss: 0.1783, Train Acc: 0.9510, \n",
            "Epoch 201/500, Train Loss: 0.1499, Train Acc: 0.9573, \n",
            "Epoch 221/500, Train Loss: 0.1165, Train Acc: 0.9706, \n",
            "Epoch 241/500, Train Loss: 0.1055, Train Acc: 0.9671, \n",
            "Epoch 261/500, Train Loss: 0.0905, Train Acc: 0.9697, \n",
            "Epoch 281/500, Train Loss: 0.0855, Train Acc: 0.9786, \n",
            "Epoch 301/500, Train Loss: 0.0718, Train Acc: 0.9742, \n",
            "Epoch 321/500, Train Loss: 0.0732, Train Acc: 0.9697, \n",
            "Epoch 341/500, Train Loss: 0.0641, Train Acc: 0.9715, \n",
            "Epoch 361/500, Train Loss: 0.0602, Train Acc: 0.9768, \n",
            "Epoch 381/500, Train Loss: 0.0572, Train Acc: 0.9813, \n",
            "Epoch 401/500, Train Loss: 0.0594, Train Acc: 0.9768, \n",
            "Epoch 421/500, Train Loss: 0.0576, Train Acc: 0.9706, \n",
            "Epoch 441/500, Train Loss: 0.0552, Train Acc: 0.9777, \n",
            "Epoch 461/500, Train Loss: 0.0564, Train Acc: 0.9768, \n",
            "Epoch 481/500, Train Loss: 0.0539, Train Acc: 0.9751, \n",
            "Finished Training\n"
          ]
        }
      ],
      "source": [
        "num_epochs = 500\n",
        "seed = 42\n",
        "torch.manual_seed(seed)\n",
        "\n",
        "for epoch in range(num_epochs):\n",
        "    net.train()\n",
        "    running_loss = 0.0\n",
        "    correct_train = 0\n",
        "    total_train = 0\n",
        "\n",
        "    for inputs, labels in train_loader:\n",
        "        optimizer.zero_grad()\n",
        "        inputs = inputs.float()\n",
        "        inputs, labels = inputs.to(device), labels.to(device)\n",
        "        outputs = net(inputs)\n",
        "        loss = criterion(outputs, labels)\n",
        "        loss.backward()\n",
        "        optimizer.step()\n",
        "\n",
        "        running_loss += loss.item()\n",
        "\n",
        "        _, predicted = torch.max(outputs, 1)\n",
        "        total_train += labels.size(0)\n",
        "        correct_train += (predicted == labels).sum().item()\n",
        "\n",
        "    train_accuracy = correct_train / total_train\n",
        "    train_loss = running_loss / len(train_loader)\n",
        "\n",
        "\n",
        "\n",
        "    train_loss_list1.append(train_loss)\n",
        "    train_acc_list1.append(train_accuracy)\n",
        "\n",
        "    if epoch%20==0 or epoch==100:\n",
        "        print(f'Epoch {epoch + 1}/{num_epochs}, ' +\n",
        "              f'Train Loss: {train_loss:.4f}, Train Acc: {train_accuracy:.4f}, ')\n",
        "\n",
        "print('Finished Training')"
      ]
    },
    {
      "cell_type": "code",
      "execution_count": 15,
      "id": "75e5641d-00b1-4cd4-b9aa-9efa7b716e73",
      "metadata": {
        "colab": {
          "base_uri": "https://localhost:8080/"
        },
        "id": "75e5641d-00b1-4cd4-b9aa-9efa7b716e73",
        "outputId": "cf146ac5-f275-4132-b3d0-7b7944f437da"
      },
      "outputs": [
        {
          "output_type": "stream",
          "name": "stdout",
          "text": [
            "Test Loss: 1.5023, Test Acc: 0.6228\n"
          ]
        }
      ],
      "source": [
        "net.eval()\n",
        "running_loss_test = 0.0\n",
        "correct_test = 0\n",
        "total_test = 0\n",
        "\n",
        "with torch.no_grad():\n",
        "    for inputs_test, labels_test in test_loader:\n",
        "        inputs_test = inputs_test.float()\n",
        "        inputs_test, labels_test = inputs_test.to(device), labels_test.to(device)\n",
        "        outputs_test = net(inputs_test)\n",
        "        loss_test = criterion(outputs_test, labels_test)\n",
        "        running_loss_test += loss_test.item()\n",
        "\n",
        "        _, predicted_test = torch.max(outputs_test.data, 1)\n",
        "        total_test += labels_test.size(0)\n",
        "        correct_test += (predicted_test == labels_test).sum().item()\n",
        "\n",
        "test_accuracy = correct_test / total_test\n",
        "test_loss = running_loss_test / len(test_loader)\n",
        "\n",
        "print(f'Test Loss: {test_loss:.4f}, Test Acc: {test_accuracy:.4f}')\n",
        "\n"
      ]
    },
    {
      "cell_type": "code",
      "execution_count": 16,
      "id": "80d2dca6-d323-4d20-a0c7-7e875dc9bcc8",
      "metadata": {
        "tags": [],
        "colab": {
          "base_uri": "https://localhost:8080/",
          "height": 89
        },
        "id": "80d2dca6-d323-4d20-a0c7-7e875dc9bcc8",
        "outputId": "60fe3380-91a5-4740-96dd-20fc1b8793b0"
      },
      "outputs": [
        {
          "output_type": "execute_result",
          "data": {
            "text/plain": [
              "         Model  Accuracy      Loss\n",
              "0  Standard NN  0.622776  1.502313"
            ],
            "text/html": [
              "\n",
              "  <div id=\"df-f116d79b-0f05-48f5-aedf-da265279a402\" class=\"colab-df-container\">\n",
              "    <div>\n",
              "<style scoped>\n",
              "    .dataframe tbody tr th:only-of-type {\n",
              "        vertical-align: middle;\n",
              "    }\n",
              "\n",
              "    .dataframe tbody tr th {\n",
              "        vertical-align: top;\n",
              "    }\n",
              "\n",
              "    .dataframe thead th {\n",
              "        text-align: right;\n",
              "    }\n",
              "</style>\n",
              "<table border=\"1\" class=\"dataframe\">\n",
              "  <thead>\n",
              "    <tr style=\"text-align: right;\">\n",
              "      <th></th>\n",
              "      <th>Model</th>\n",
              "      <th>Accuracy</th>\n",
              "      <th>Loss</th>\n",
              "    </tr>\n",
              "  </thead>\n",
              "  <tbody>\n",
              "    <tr>\n",
              "      <th>0</th>\n",
              "      <td>Standard NN</td>\n",
              "      <td>0.622776</td>\n",
              "      <td>1.502313</td>\n",
              "    </tr>\n",
              "  </tbody>\n",
              "</table>\n",
              "</div>\n",
              "    <div class=\"colab-df-buttons\">\n",
              "\n",
              "  <div class=\"colab-df-container\">\n",
              "    <button class=\"colab-df-convert\" onclick=\"convertToInteractive('df-f116d79b-0f05-48f5-aedf-da265279a402')\"\n",
              "            title=\"Convert this dataframe to an interactive table.\"\n",
              "            style=\"display:none;\">\n",
              "\n",
              "  <svg xmlns=\"http://www.w3.org/2000/svg\" height=\"24px\" viewBox=\"0 -960 960 960\">\n",
              "    <path d=\"M120-120v-720h720v720H120Zm60-500h600v-160H180v160Zm220 220h160v-160H400v160Zm0 220h160v-160H400v160ZM180-400h160v-160H180v160Zm440 0h160v-160H620v160ZM180-180h160v-160H180v160Zm440 0h160v-160H620v160Z\"/>\n",
              "  </svg>\n",
              "    </button>\n",
              "\n",
              "  <style>\n",
              "    .colab-df-container {\n",
              "      display:flex;\n",
              "      gap: 12px;\n",
              "    }\n",
              "\n",
              "    .colab-df-convert {\n",
              "      background-color: #E8F0FE;\n",
              "      border: none;\n",
              "      border-radius: 50%;\n",
              "      cursor: pointer;\n",
              "      display: none;\n",
              "      fill: #1967D2;\n",
              "      height: 32px;\n",
              "      padding: 0 0 0 0;\n",
              "      width: 32px;\n",
              "    }\n",
              "\n",
              "    .colab-df-convert:hover {\n",
              "      background-color: #E2EBFA;\n",
              "      box-shadow: 0px 1px 2px rgba(60, 64, 67, 0.3), 0px 1px 3px 1px rgba(60, 64, 67, 0.15);\n",
              "      fill: #174EA6;\n",
              "    }\n",
              "\n",
              "    .colab-df-buttons div {\n",
              "      margin-bottom: 4px;\n",
              "    }\n",
              "\n",
              "    [theme=dark] .colab-df-convert {\n",
              "      background-color: #3B4455;\n",
              "      fill: #D2E3FC;\n",
              "    }\n",
              "\n",
              "    [theme=dark] .colab-df-convert:hover {\n",
              "      background-color: #434B5C;\n",
              "      box-shadow: 0px 1px 3px 1px rgba(0, 0, 0, 0.15);\n",
              "      filter: drop-shadow(0px 1px 2px rgba(0, 0, 0, 0.3));\n",
              "      fill: #FFFFFF;\n",
              "    }\n",
              "  </style>\n",
              "\n",
              "    <script>\n",
              "      const buttonEl =\n",
              "        document.querySelector('#df-f116d79b-0f05-48f5-aedf-da265279a402 button.colab-df-convert');\n",
              "      buttonEl.style.display =\n",
              "        google.colab.kernel.accessAllowed ? 'block' : 'none';\n",
              "\n",
              "      async function convertToInteractive(key) {\n",
              "        const element = document.querySelector('#df-f116d79b-0f05-48f5-aedf-da265279a402');\n",
              "        const dataTable =\n",
              "          await google.colab.kernel.invokeFunction('convertToInteractive',\n",
              "                                                    [key], {});\n",
              "        if (!dataTable) return;\n",
              "\n",
              "        const docLinkHtml = 'Like what you see? Visit the ' +\n",
              "          '<a target=\"_blank\" href=https://colab.research.google.com/notebooks/data_table.ipynb>data table notebook</a>'\n",
              "          + ' to learn more about interactive tables.';\n",
              "        element.innerHTML = '';\n",
              "        dataTable['output_type'] = 'display_data';\n",
              "        await google.colab.output.renderOutput(dataTable, element);\n",
              "        const docLink = document.createElement('div');\n",
              "        docLink.innerHTML = docLinkHtml;\n",
              "        element.appendChild(docLink);\n",
              "      }\n",
              "    </script>\n",
              "  </div>\n",
              "\n",
              "\n",
              "  <div id=\"id_fd4bab38-beea-4e1a-8a6e-a3411a98494b\">\n",
              "    <style>\n",
              "      .colab-df-generate {\n",
              "        background-color: #E8F0FE;\n",
              "        border: none;\n",
              "        border-radius: 50%;\n",
              "        cursor: pointer;\n",
              "        display: none;\n",
              "        fill: #1967D2;\n",
              "        height: 32px;\n",
              "        padding: 0 0 0 0;\n",
              "        width: 32px;\n",
              "      }\n",
              "\n",
              "      .colab-df-generate:hover {\n",
              "        background-color: #E2EBFA;\n",
              "        box-shadow: 0px 1px 2px rgba(60, 64, 67, 0.3), 0px 1px 3px 1px rgba(60, 64, 67, 0.15);\n",
              "        fill: #174EA6;\n",
              "      }\n",
              "\n",
              "      [theme=dark] .colab-df-generate {\n",
              "        background-color: #3B4455;\n",
              "        fill: #D2E3FC;\n",
              "      }\n",
              "\n",
              "      [theme=dark] .colab-df-generate:hover {\n",
              "        background-color: #434B5C;\n",
              "        box-shadow: 0px 1px 3px 1px rgba(0, 0, 0, 0.15);\n",
              "        filter: drop-shadow(0px 1px 2px rgba(0, 0, 0, 0.3));\n",
              "        fill: #FFFFFF;\n",
              "      }\n",
              "    </style>\n",
              "    <button class=\"colab-df-generate\" onclick=\"generateWithVariable('results')\"\n",
              "            title=\"Generate code using this dataframe.\"\n",
              "            style=\"display:none;\">\n",
              "\n",
              "  <svg xmlns=\"http://www.w3.org/2000/svg\" height=\"24px\"viewBox=\"0 0 24 24\"\n",
              "       width=\"24px\">\n",
              "    <path d=\"M7,19H8.4L18.45,9,17,7.55,7,17.6ZM5,21V16.75L18.45,3.32a2,2,0,0,1,2.83,0l1.4,1.43a1.91,1.91,0,0,1,.58,1.4,1.91,1.91,0,0,1-.58,1.4L9.25,21ZM18.45,9,17,7.55Zm-12,3A5.31,5.31,0,0,0,4.9,8.1,5.31,5.31,0,0,0,1,6.5,5.31,5.31,0,0,0,4.9,4.9,5.31,5.31,0,0,0,6.5,1,5.31,5.31,0,0,0,8.1,4.9,5.31,5.31,0,0,0,12,6.5,5.46,5.46,0,0,0,6.5,12Z\"/>\n",
              "  </svg>\n",
              "    </button>\n",
              "    <script>\n",
              "      (() => {\n",
              "      const buttonEl =\n",
              "        document.querySelector('#id_fd4bab38-beea-4e1a-8a6e-a3411a98494b button.colab-df-generate');\n",
              "      buttonEl.style.display =\n",
              "        google.colab.kernel.accessAllowed ? 'block' : 'none';\n",
              "\n",
              "      buttonEl.onclick = () => {\n",
              "        google.colab.notebook.generateWithVariable('results');\n",
              "      }\n",
              "      })();\n",
              "    </script>\n",
              "  </div>\n",
              "\n",
              "    </div>\n",
              "  </div>\n"
            ]
          },
          "metadata": {},
          "execution_count": 16
        }
      ],
      "source": [
        "results_temp = pd.DataFrame(\n",
        "    [[\n",
        "        'Standard NN',\n",
        "        test_accuracy,\n",
        "        test_loss\n",
        "    ]],\n",
        "    columns=['Model', 'Accuracy', 'Loss']\n",
        ")\n",
        "\n",
        "results = pd.concat([results, results_temp], ignore_index=True)\n",
        "results"
      ]
    },
    {
      "cell_type": "code",
      "execution_count": 16,
      "id": "9f4eb3ba-f768-46a7-a5b7-1f5437787627",
      "metadata": {
        "id": "9f4eb3ba-f768-46a7-a5b7-1f5437787627"
      },
      "outputs": [],
      "source": []
    }
  ],
  "metadata": {
    "kernelspec": {
      "display_name": "Python 3 (ipykernel)",
      "language": "python",
      "name": "python3"
    },
    "language_info": {
      "codemirror_mode": {
        "name": "ipython",
        "version": 3
      },
      "file_extension": ".py",
      "mimetype": "text/x-python",
      "name": "python",
      "nbconvert_exporter": "python",
      "pygments_lexer": "ipython3",
      "version": "3.11.5"
    },
    "colab": {
      "provenance": []
    }
  },
  "nbformat": 4,
  "nbformat_minor": 5
}