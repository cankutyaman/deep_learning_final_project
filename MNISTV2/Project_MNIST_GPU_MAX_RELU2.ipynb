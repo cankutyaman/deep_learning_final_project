{
  "cells": [
    {
      "cell_type": "code",
      "execution_count": 1,
      "id": "85eec710-5191-42ee-8805-5551a3fa41f2",
      "metadata": {
        "id": "85eec710-5191-42ee-8805-5551a3fa41f2"
      },
      "outputs": [],
      "source": [
        "import torch\n",
        "import torch.nn as nn\n",
        "from collections import OrderedDict\n",
        "from torch.utils.data import DataLoader, TensorDataset\n",
        "import matplotlib.pyplot as plt\n",
        "import numpy as np\n",
        "import pandas as pd\n",
        "import torch.optim as optim\n",
        "import torch.nn.utils as utils"
      ]
    },
    {
      "cell_type": "markdown",
      "id": "5a84b5a8-5002-487e-b152-3c91da4af6ea",
      "metadata": {
        "id": "5a84b5a8-5002-487e-b152-3c91da4af6ea"
      },
      "source": [
        "# Importing Data"
      ]
    },
    {
      "cell_type": "code",
      "execution_count": 2,
      "id": "7b5e2238-416b-488c-bca4-cd6b5bcc2a77",
      "metadata": {
        "id": "7b5e2238-416b-488c-bca4-cd6b5bcc2a77"
      },
      "outputs": [],
      "source": [
        "import tensorflow as tf\n",
        "from tensorflow.keras.datasets import mnist"
      ]
    },
    {
      "cell_type": "code",
      "execution_count": 3,
      "id": "13940347-3976-402b-b36f-ed1216d5dded",
      "metadata": {
        "colab": {
          "base_uri": "https://localhost:8080/"
        },
        "id": "13940347-3976-402b-b36f-ed1216d5dded",
        "outputId": "3752d744-4a65-4320-e274-e33b275ffeb5"
      },
      "outputs": [
        {
          "output_type": "stream",
          "name": "stdout",
          "text": [
            "Downloading data from https://storage.googleapis.com/tensorflow/tf-keras-datasets/mnist.npz\n",
            "11490434/11490434 [==============================] - 2s 0us/step\n"
          ]
        }
      ],
      "source": [
        "(X_train, y_train), (X_test, y_test) = mnist.load_data()"
      ]
    },
    {
      "cell_type": "code",
      "execution_count": 4,
      "id": "a7b9497c-47f1-4929-a875-415f22d01af5",
      "metadata": {
        "tags": [],
        "id": "a7b9497c-47f1-4929-a875-415f22d01af5"
      },
      "outputs": [],
      "source": [
        "X_valid = X_train[:10000,...]\n",
        "y_valid = y_train[:10000]\n",
        "\n",
        "X_train = X_train[10000:,...]\n",
        "y_train = y_train[10000:]"
      ]
    },
    {
      "cell_type": "code",
      "execution_count": 5,
      "id": "4a5474d0-ea45-404a-9c20-0d7205c72c8b",
      "metadata": {
        "id": "4a5474d0-ea45-404a-9c20-0d7205c72c8b"
      },
      "outputs": [],
      "source": [
        "X_train_tensor = torch.from_numpy(X_train)\n",
        "y_train_tensor = torch.from_numpy(y_train)\n",
        "X_valid_tensor = torch.from_numpy(X_valid)\n",
        "y_valid_tensor = torch.from_numpy(y_valid)\n",
        "X_test_tensor = torch.from_numpy(X_test)\n",
        "y_test_tensor = torch.from_numpy(y_test)"
      ]
    },
    {
      "cell_type": "code",
      "execution_count": 6,
      "id": "a8038aa6-cfbf-4ddb-95f3-a3185687fe02",
      "metadata": {
        "colab": {
          "base_uri": "https://localhost:8080/",
          "height": 206
        },
        "id": "a8038aa6-cfbf-4ddb-95f3-a3185687fe02",
        "outputId": "f16d2833-5632-4ff0-9484-8c789b755b67"
      },
      "outputs": [
        {
          "output_type": "display_data",
          "data": {
            "text/plain": [
              "<Figure size 960x720 with 5 Axes>"
            ],
            "image/png": "[encoded data removed]"
          },
          "metadata": {}
        }
      ],
      "source": [
        "num_images_to_show = 5\n",
        "random_indices = np.random.randint(0, len(X_train), num_images_to_show)\n",
        "plt.figure(dpi=150)\n",
        "\n",
        "# Plotting the images\n",
        "for i, idx in enumerate(random_indices, 1):\n",
        "    plt.subplot(1, num_images_to_show, i)\n",
        "    plt.imshow(X_train[idx].squeeze(), cmap='gray')\n",
        "    plt.title(f\"Label: {y_train[idx]}\")\n",
        "    plt.axis('off')\n",
        "\n",
        "plt.show()"
      ]
    },
    {
      "cell_type": "code",
      "execution_count": 7,
      "id": "9d6f81bc-47c5-44ab-a43d-62b7a550a9bc",
      "metadata": {
        "tags": [],
        "colab": {
          "base_uri": "https://localhost:8080/",
          "height": 89
        },
        "id": "9d6f81bc-47c5-44ab-a43d-62b7a550a9bc",
        "outputId": "52a00e39-c807-4c8d-eb7e-c4130664bd35"
      },
      "outputs": [
        {
          "output_type": "execute_result",
          "data": {
            "text/plain": [
              "Empty DataFrame\n",
              "Columns: [Model, Accuracy, Loss]\n",
              "Index: []"
            ],
            "text/html": [
              "\n",
              "  <div id=\"df-2aafff29-6780-4113-b5ae-947b7c23d77f\" class=\"colab-df-container\">\n",
              "    <div>\n",
              "<style scoped>\n",
              "    .dataframe tbody tr th:only-of-type {\n",
              "        vertical-align: middle;\n",
              "    }\n",
              "\n",
              "    .dataframe tbody tr th {\n",
              "        vertical-align: top;\n",
              "    }\n",
              "\n",
              "    .dataframe thead th {\n",
              "        text-align: right;\n",
              "    }\n",
              "</style>\n",
              "<table border=\"1\" class=\"dataframe\">\n",
              "  <thead>\n",
              "    <tr style=\"text-align: right;\">\n",
              "      <th></th>\n",
              "      <th>Model</th>\n",
              "      <th>Accuracy</th>\n",
              "      <th>Loss</th>\n",
              "    </tr>\n",
              "  </thead>\n",
              "  <tbody>\n",
              "  </tbody>\n",
              "</table>\n",
              "</div>\n",
              "    <div class=\"colab-df-buttons\">\n",
              "\n",
              "  <div class=\"colab-df-container\">\n",
              "    <button class=\"colab-df-convert\" onclick=\"convertToInteractive('df-2aafff29-6780-4113-b5ae-947b7c23d77f')\"\n",
              "            title=\"Convert this dataframe to an interactive table.\"\n",
              "            style=\"display:none;\">\n",
              "\n",
              "  <svg xmlns=\"http://www.w3.org/2000/svg\" height=\"24px\" viewBox=\"0 -960 960 960\">\n",
              "    <path d=\"M120-120v-720h720v720H120Zm60-500h600v-160H180v160Zm220 220h160v-160H400v160Zm0 220h160v-160H400v160ZM180-400h160v-160H180v160Zm440 0h160v-160H620v160ZM180-180h160v-160H180v160Zm440 0h160v-160H620v160Z\"/>\n",
              "  </svg>\n",
              "    </button>\n",
              "\n",
              "  <style>\n",
              "    .colab-df-container {\n",
              "      display:flex;\n",
              "      gap: 12px;\n",
              "    }\n",
              "\n",
              "    .colab-df-convert {\n",
              "      background-color: #E8F0FE;\n",
              "      border: none;\n",
              "      border-radius: 50%;\n",
              "      cursor: pointer;\n",
              "      display: none;\n",
              "      fill: #1967D2;\n",
              "      height: 32px;\n",
              "      padding: 0 0 0 0;\n",
              "      width: 32px;\n",
              "    }\n",
              "\n",
              "    .colab-df-convert:hover {\n",
              "      background-color: #E2EBFA;\n",
              "      box-shadow: 0px 1px 2px rgba(60, 64, 67, 0.3), 0px 1px 3px 1px rgba(60, 64, 67, 0.15);\n",
              "      fill: #174EA6;\n",
              "    }\n",
              "\n",
              "    .colab-df-buttons div {\n",
              "      margin-bottom: 4px;\n",
              "    }\n",
              "\n",
              "    [theme=dark] .colab-df-convert {\n",
              "      background-color: #3B4455;\n",
              "      fill: #D2E3FC;\n",
              "    }\n",
              "\n",
              "    [theme=dark] .colab-df-convert:hover {\n",
              "      background-color: #434B5C;\n",
              "      box-shadow: 0px 1px 3px 1px rgba(0, 0, 0, 0.15);\n",
              "      filter: drop-shadow(0px 1px 2px rgba(0, 0, 0, 0.3));\n",
              "      fill: #FFFFFF;\n",
              "    }\n",
              "  </style>\n",
              "\n",
              "    <script>\n",
              "      const buttonEl =\n",
              "        document.querySelector('#df-2aafff29-6780-4113-b5ae-947b7c23d77f button.colab-df-convert');\n",
              "      buttonEl.style.display =\n",
              "        google.colab.kernel.accessAllowed ? 'block' : 'none';\n",
              "\n",
              "      async function convertToInteractive(key) {\n",
              "        const element = document.querySelector('#df-2aafff29-6780-4113-b5ae-947b7c23d77f');\n",
              "        const dataTable =\n",
              "          await google.colab.kernel.invokeFunction('convertToInteractive',\n",
              "                                                    [key], {});\n",
              "        if (!dataTable) return;\n",
              "\n",
              "        const docLinkHtml = 'Like what you see? Visit the ' +\n",
              "          '<a target=\"_blank\" href=https://colab.research.google.com/notebooks/data_table.ipynb>data table notebook</a>'\n",
              "          + ' to learn more about interactive tables.';\n",
              "        element.innerHTML = '';\n",
              "        dataTable['output_type'] = 'display_data';\n",
              "        await google.colab.output.renderOutput(dataTable, element);\n",
              "        const docLink = document.createElement('div');\n",
              "        docLink.innerHTML = docLinkHtml;\n",
              "        element.appendChild(docLink);\n",
              "      }\n",
              "    </script>\n",
              "  </div>\n",
              "\n",
              "\n",
              "  <div id=\"id_051f6dac-196e-4bc1-8ec7-ed38134214d3\">\n",
              "    <style>\n",
              "      .colab-df-generate {\n",
              "        background-color: #E8F0FE;\n",
              "        border: none;\n",
              "        border-radius: 50%;\n",
              "        cursor: pointer;\n",
              "        display: none;\n",
              "        fill: #1967D2;\n",
              "        height: 32px;\n",
              "        padding: 0 0 0 0;\n",
              "        width: 32px;\n",
              "      }\n",
              "\n",
              "      .colab-df-generate:hover {\n",
              "        background-color: #E2EBFA;\n",
              "        box-shadow: 0px 1px 2px rgba(60, 64, 67, 0.3), 0px 1px 3px 1px rgba(60, 64, 67, 0.15);\n",
              "        fill: #174EA6;\n",
              "      }\n",
              "\n",
              "      [theme=dark] .colab-df-generate {\n",
              "        background-color: #3B4455;\n",
              "        fill: #D2E3FC;\n",
              "      }\n",
              "\n",
              "      [theme=dark] .colab-df-generate:hover {\n",
              "        background-color: #434B5C;\n",
              "        box-shadow: 0px 1px 3px 1px rgba(0, 0, 0, 0.15);\n",
              "        filter: drop-shadow(0px 1px 2px rgba(0, 0, 0, 0.3));\n",
              "        fill: #FFFFFF;\n",
              "      }\n",
              "    </style>\n",
              "    <button class=\"colab-df-generate\" onclick=\"generateWithVariable('results')\"\n",
              "            title=\"Generate code using this dataframe.\"\n",
              "            style=\"display:none;\">\n",
              "\n",
              "  <svg xmlns=\"http://www.w3.org/2000/svg\" height=\"24px\"viewBox=\"0 0 24 24\"\n",
              "       width=\"24px\">\n",
              "    <path d=\"M7,19H8.4L18.45,9,17,7.55,7,17.6ZM5,21V16.75L18.45,3.32a2,2,0,0,1,2.83,0l1.4,1.43a1.91,1.91,0,0,1,.58,1.4,1.91,1.91,0,0,1-.58,1.4L9.25,21ZM18.45,9,17,7.55Zm-12,3A5.31,5.31,0,0,0,4.9,8.1,5.31,5.31,0,0,0,1,6.5,5.31,5.31,0,0,0,4.9,4.9,5.31,5.31,0,0,0,6.5,1,5.31,5.31,0,0,0,8.1,4.9,5.31,5.31,0,0,0,12,6.5,5.46,5.46,0,0,0,6.5,12Z\"/>\n",
              "  </svg>\n",
              "    </button>\n",
              "    <script>\n",
              "      (() => {\n",
              "      const buttonEl =\n",
              "        document.querySelector('#id_051f6dac-196e-4bc1-8ec7-ed38134214d3 button.colab-df-generate');\n",
              "      buttonEl.style.display =\n",
              "        google.colab.kernel.accessAllowed ? 'block' : 'none';\n",
              "\n",
              "      buttonEl.onclick = () => {\n",
              "        google.colab.notebook.generateWithVariable('results');\n",
              "      }\n",
              "      })();\n",
              "    </script>\n",
              "  </div>\n",
              "\n",
              "    </div>\n",
              "  </div>\n"
            ]
          },
          "metadata": {},
          "execution_count": 7
        }
      ],
      "source": [
        "results = pd.DataFrame(columns=['Model', 'Accuracy', 'Loss'])\n",
        "results"
      ]
    },
    {
      "cell_type": "markdown",
      "id": "78bfad13-2ef2-4f63-be40-56b3b55bfe24",
      "metadata": {
        "id": "78bfad13-2ef2-4f63-be40-56b3b55bfe24"
      },
      "source": [
        "# Dropout NN + Max Norm (ReLu, 2048)"
      ]
    },
    {
      "cell_type": "code",
      "execution_count": 8,
      "id": "d28e1f11-8632-417e-a7ea-c3e3987be422",
      "metadata": {
        "id": "d28e1f11-8632-417e-a7ea-c3e3987be422"
      },
      "outputs": [],
      "source": [
        "train_dataset = TensorDataset(X_train_tensor, y_train_tensor)\n",
        "valid_dataset = TensorDataset(X_valid_tensor, y_valid_tensor)\n",
        "test_dataset = TensorDataset(X_test_tensor, y_test_tensor)\n",
        "\n",
        "train_loader = DataLoader(train_dataset, batch_size=64, shuffle=True)\n",
        "valid_loader = DataLoader(valid_dataset, batch_size=64, shuffle=True)\n",
        "test_loader = DataLoader(test_dataset, batch_size=64, shuffle=False)"
      ]
    },
    {
      "cell_type": "code",
      "execution_count": 9,
      "id": "6afd155b-6af9-4cea-a09c-2be717f97306",
      "metadata": {
        "colab": {
          "base_uri": "https://localhost:8080/"
        },
        "id": "6afd155b-6af9-4cea-a09c-2be717f97306",
        "outputId": "190d46a0-3fc9-48da-80e8-08427d129698"
      },
      "outputs": [
        {
          "output_type": "stream",
          "name": "stdout",
          "text": [
            "Sequential(\n",
            "  (dropout1): Dropout(p=0.2, inplace=False)\n",
            "  (flatten): Flatten(start_dim=1, end_dim=-1)\n",
            "  (linear1): Linear(in_features=784, out_features=2048, bias=True)\n",
            "  (relu1): ReLU()\n",
            "  (dropout2): Dropout(p=0.7, inplace=False)\n",
            "  (linear2): Linear(in_features=2048, out_features=2048, bias=True)\n",
            "  (relu2): ReLU()\n",
            "  (dropout3): Dropout(p=0.7, inplace=False)\n",
            "  (linear3): Linear(in_features=2048, out_features=2048, bias=True)\n",
            "  (relu3): ReLU()\n",
            "  (dropout4): Dropout(p=0.7, inplace=False)\n",
            "  (linear4): Linear(in_features=2048, out_features=10, bias=True)\n",
            ")\n"
          ]
        }
      ],
      "source": [
        "net = nn.Sequential(\n",
        "    OrderedDict([\n",
        "        ('dropout1', nn.Dropout(0.2)),\n",
        "        ('flatten', nn.Flatten()),\n",
        "        ('linear1', nn.Linear(784, 2048)),\n",
        "        ('relu1', nn.ReLU()),\n",
        "        ('dropout2', nn.Dropout(0.7)),\n",
        "        ('linear2', nn.Linear(2048, 2048)),\n",
        "        ('relu2', nn.ReLU()),\n",
        "        ('dropout3', nn.Dropout(0.7)),\n",
        "        ('linear3', nn.Linear(2048, 2048)),\n",
        "        ('relu3', nn.ReLU()),\n",
        "        ('dropout4', nn.Dropout(0.7)),\n",
        "        ('linear4', nn.Linear(2048, 10)),\n",
        "    ])\n",
        ")\n",
        "\n",
        "print(net)\n",
        "\n",
        "criterion = nn.CrossEntropyLoss()\n",
        "optimizer = optim.SGD(net.parameters(), lr=0.01, momentum=0.5)\n",
        "\n",
        "train_loss_list5 = list()\n",
        "train_acc_list5 = list()\n",
        "valid_loss_list5 = list()\n",
        "valid_acc_list5 = list()"
      ]
    },
    {
      "cell_type": "code",
      "execution_count": 10,
      "id": "2b7e5bb8-a01c-4a36-853b-204a9cc1083d",
      "metadata": {
        "colab": {
          "base_uri": "https://localhost:8080/"
        },
        "id": "2b7e5bb8-a01c-4a36-853b-204a9cc1083d",
        "outputId": "c9e370cc-fe34-4772-e3a4-ecf7c0a7ba76"
      },
      "outputs": [
        {
          "output_type": "execute_result",
          "data": {
            "text/plain": [
              "Sequential(\n",
              "  (dropout1): Dropout(p=0.2, inplace=False)\n",
              "  (flatten): Flatten(start_dim=1, end_dim=-1)\n",
              "  (linear1): Linear(in_features=784, out_features=2048, bias=True)\n",
              "  (relu1): ReLU()\n",
              "  (dropout2): Dropout(p=0.7, inplace=False)\n",
              "  (linear2): Linear(in_features=2048, out_features=2048, bias=True)\n",
              "  (relu2): ReLU()\n",
              "  (dropout3): Dropout(p=0.7, inplace=False)\n",
              "  (linear3): Linear(in_features=2048, out_features=2048, bias=True)\n",
              "  (relu3): ReLU()\n",
              "  (dropout4): Dropout(p=0.7, inplace=False)\n",
              "  (linear4): Linear(in_features=2048, out_features=10, bias=True)\n",
              ")"
            ]
          },
          "metadata": {},
          "execution_count": 10
        }
      ],
      "source": [
        "torch.cuda.empty_cache()\n",
        "device = torch.device(\"cuda\" if torch.cuda.is_available() else \"cpu\")\n",
        "#torch.cuda.set_per_process_memory_fraction(0.8, device=device.index)\n",
        "net.to(device)"
      ]
    },
    {
      "cell_type": "code",
      "execution_count": 11,
      "id": "9137452a-22af-4412-96e9-530554349107",
      "metadata": {
        "colab": {
          "base_uri": "https://localhost:8080/"
        },
        "id": "9137452a-22af-4412-96e9-530554349107",
        "outputId": "cd8831c5-b347-47c4-d432-06404e200fb2"
      },
      "outputs": [
        {
          "output_type": "stream",
          "name": "stdout",
          "text": [
            "Epoch 1/100, Train Loss: 10.5215, Train Acc: 0.2512, Valid Loss: 0.7184, Valid Acc: 0.7970\n",
            "Epoch 21/100, Train Loss: 0.3077, Train Acc: 0.9117, Valid Loss: 0.1621, Valid Acc: 0.9561\n",
            "Epoch 41/100, Train Loss: 0.2182, Train Acc: 0.9395, Valid Loss: 0.1193, Valid Acc: 0.9649\n",
            "Epoch 61/100, Train Loss: 0.1772, Train Acc: 0.9510, Valid Loss: 0.1051, Valid Acc: 0.9694\n",
            "Epoch 81/100, Train Loss: 0.1522, Train Acc: 0.9590, Valid Loss: 0.0959, Valid Acc: 0.9722\n",
            "Finished Training\n"
          ]
        }
      ],
      "source": [
        "num_epochs = 100\n",
        "seed = 42\n",
        "torch.manual_seed(seed)\n",
        "\n",
        "for epoch in range(num_epochs):\n",
        "    net.train()\n",
        "    running_loss = 0.0\n",
        "    correct_train = 0\n",
        "    total_train = 0\n",
        "\n",
        "    for inputs, labels in train_loader:\n",
        "        optimizer.zero_grad()\n",
        "        inputs = inputs.float()\n",
        "        inputs, labels = inputs.to(device), labels.to(device)\n",
        "        outputs = net(inputs)\n",
        "        loss = criterion(outputs, labels)\n",
        "        loss.backward()\n",
        "\n",
        "        # Apply max norm constraint to the gradients\n",
        "        max_norm = 1.0  # Set your desired max norm value\n",
        "        for name, param in net.named_parameters():\n",
        "            if 'weight' in name:\n",
        "                utils.clip_grad_norm_(param, max_norm)\n",
        "\n",
        "        optimizer.step()\n",
        "\n",
        "        running_loss += loss.item()\n",
        "\n",
        "        _, predicted = torch.max(outputs, 1)\n",
        "        total_train += labels.size(0)\n",
        "        correct_train += (predicted == labels).sum().item()\n",
        "\n",
        "    train_accuracy = correct_train / total_train\n",
        "    train_loss = running_loss / len(train_loader)\n",
        "\n",
        "    # Validation Loop\n",
        "    net.eval()\n",
        "    running_loss_valid = 0.0\n",
        "    correct_valid = 0\n",
        "    total_valid = 0\n",
        "\n",
        "    with torch.no_grad():\n",
        "        for inputs_valid, labels_valid in valid_loader:\n",
        "            inputs_valid = inputs_valid.float()\n",
        "            inputs_valid, labels_valid = inputs_valid.to(device), labels_valid.to(device)\n",
        "            outputs_valid = net(inputs_valid)\n",
        "            loss_valid = criterion(outputs_valid, labels_valid)\n",
        "            running_loss_valid += loss_valid.item()\n",
        "\n",
        "            _, predicted_valid = torch.max(outputs_valid.data, 1)\n",
        "            total_valid += labels_valid.size(0)\n",
        "            correct_valid += (predicted_valid == labels_valid).sum().item()\n",
        "\n",
        "    valid_accuracy = correct_valid / total_valid\n",
        "    valid_loss = running_loss_valid / len(valid_loader)\n",
        "\n",
        "    train_loss_list5.append(train_loss)\n",
        "    train_acc_list5.append(train_accuracy)\n",
        "    valid_loss_list5.append(valid_loss)\n",
        "    valid_acc_list5.append(valid_accuracy)\n",
        "\n",
        "    if epoch%20==0:\n",
        "        print(f'Epoch {epoch + 1}/{num_epochs}, ' +\n",
        "              f'Train Loss: {train_loss:.4f}, Train Acc: {train_accuracy:.4f}, ' +\n",
        "              f'Valid Loss: {valid_loss:.4f}, Valid Acc: {valid_accuracy:.4f}')\n",
        "\n",
        "print('Finished Training')"
      ]
    },
    {
      "cell_type": "code",
      "execution_count": 12,
      "id": "ae989f46-fcfe-45df-8471-26ac2f1e6a91",
      "metadata": {
        "colab": {
          "base_uri": "https://localhost:8080/",
          "height": 564
        },
        "id": "ae989f46-fcfe-45df-8471-26ac2f1e6a91",
        "outputId": "023c386d-feca-4ef3-b6c0-afdf737819f0"
      },
      "outputs": [
        {
          "output_type": "display_data",
          "data": {
            "text/plain": [
              "<Figure size 800x600 with 1 Axes>"
            ],
            "image/png": "[encoded data removed]"
          },
          "metadata": {}
        }
      ],
      "source": [
        "plt.figure(figsize=(8, 6))\n",
        "plt.plot(train_acc_list5, label='Train Accuracy', lw=3)\n",
        "plt.plot(valid_acc_list5, label='Validation Accuracy', lw=3)\n",
        "plt.xlabel('Epoch')\n",
        "plt.ylabel('Accuracy')\n",
        "plt.title('Train and Validation Accuracy Curves')\n",
        "plt.legend()\n",
        "plt.show()"
      ]
    },
    {
      "cell_type": "code",
      "execution_count": 13,
      "id": "269c5b96-3375-4392-a1ed-025403f3d97f",
      "metadata": {
        "colab": {
          "base_uri": "https://localhost:8080/",
          "height": 564
        },
        "id": "269c5b96-3375-4392-a1ed-025403f3d97f",
        "outputId": "6a5e9525-5b6a-439c-8bac-55a42c5dd824"
      },
      "outputs": [
        {
          "output_type": "display_data",
          "data": {
            "text/plain": [
              "<Figure size 800x600 with 1 Axes>"
            ],
            "image/png": "[encoded data removed]"
          },
          "metadata": {}
        }
      ],
      "source": [
        "plt.figure(figsize=(8, 6))\n",
        "plt.plot(train_loss_list5, label='Train Loss', lw=3)\n",
        "plt.plot(valid_loss_list5, label='Validation Loss', lw=3)\n",
        "plt.xlabel('Epoch')\n",
        "plt.ylabel('Loss')\n",
        "plt.title('Train and Validation Loss Curves')\n",
        "plt.legend()\n",
        "plt.show()"
      ]
    },
    {
      "cell_type": "code",
      "execution_count": 14,
      "id": "7d0cd1a8-c64d-4a53-8b50-b59956169247",
      "metadata": {
        "colab": {
          "base_uri": "https://localhost:8080/"
        },
        "id": "7d0cd1a8-c64d-4a53-8b50-b59956169247",
        "outputId": "4f1dcedf-f148-4ee8-bd70-f2c4d4a1e7fb"
      },
      "outputs": [
        {
          "output_type": "stream",
          "name": "stdout",
          "text": [
            "Test Loss: 0.0858, Test Acc: 0.9745\n"
          ]
        }
      ],
      "source": [
        "net.eval()\n",
        "running_loss_test = 0.0\n",
        "correct_test = 0\n",
        "total_test = 0\n",
        "\n",
        "with torch.no_grad():\n",
        "    for inputs_test, labels_test in test_loader:\n",
        "        inputs_test = inputs_test.float()\n",
        "        inputs_test, labels_test = inputs_test.to(device), labels_test.to(device)\n",
        "        outputs_test = net(inputs_test)\n",
        "        loss_test = criterion(outputs_test, labels_test)\n",
        "        running_loss_test += loss_test.item()\n",
        "\n",
        "        _, predicted_test = torch.max(outputs_test.data, 1)\n",
        "        total_test += labels_test.size(0)\n",
        "        correct_test += (predicted_test == labels_test).sum().item()\n",
        "\n",
        "test_accuracy = correct_test / total_test\n",
        "test_loss = running_loss_test / len(test_loader)\n",
        "\n",
        "print(f'Test Loss: {test_loss:.4f}, Test Acc: {test_accuracy:.4f}')\n",
        "\n"
      ]
    },
    {
      "cell_type": "code",
      "execution_count": 15,
      "id": "95a4cdf9-6463-43de-b04a-32e8ee1f57d2",
      "metadata": {
        "colab": {
          "base_uri": "https://localhost:8080/",
          "height": 89
        },
        "id": "95a4cdf9-6463-43de-b04a-32e8ee1f57d2",
        "outputId": "115f9e19-b3fb-408f-b57f-1d05371754a1"
      },
      "outputs": [
        {
          "output_type": "execute_result",
          "data": {
            "text/plain": [
              "                           Model  Accuracy      Loss\n",
              "0  Dropout NN + Max (ReLu, 2048)    0.9745  0.085826"
            ],
            "text/html": [
              "\n",
              "  <div id=\"df-985292b1-aacb-4393-8c1e-6eccf6b22cda\" class=\"colab-df-container\">\n",
              "    <div>\n",
              "<style scoped>\n",
              "    .dataframe tbody tr th:only-of-type {\n",
              "        vertical-align: middle;\n",
              "    }\n",
              "\n",
              "    .dataframe tbody tr th {\n",
              "        vertical-align: top;\n",
              "    }\n",
              "\n",
              "    .dataframe thead th {\n",
              "        text-align: right;\n",
              "    }\n",
              "</style>\n",
              "<table border=\"1\" class=\"dataframe\">\n",
              "  <thead>\n",
              "    <tr style=\"text-align: right;\">\n",
              "      <th></th>\n",
              "      <th>Model</th>\n",
              "      <th>Accuracy</th>\n",
              "      <th>Loss</th>\n",
              "    </tr>\n",
              "  </thead>\n",
              "  <tbody>\n",
              "    <tr>\n",
              "      <th>0</th>\n",
              "      <td>Dropout NN + Max (ReLu, 2048)</td>\n",
              "      <td>0.9745</td>\n",
              "      <td>0.085826</td>\n",
              "    </tr>\n",
              "  </tbody>\n",
              "</table>\n",
              "</div>\n",
              "    <div class=\"colab-df-buttons\">\n",
              "\n",
              "  <div class=\"colab-df-container\">\n",
              "    <button class=\"colab-df-convert\" onclick=\"convertToInteractive('df-985292b1-aacb-4393-8c1e-6eccf6b22cda')\"\n",
              "            title=\"Convert this dataframe to an interactive table.\"\n",
              "            style=\"display:none;\">\n",
              "\n",
              "  <svg xmlns=\"http://www.w3.org/2000/svg\" height=\"24px\" viewBox=\"0 -960 960 960\">\n",
              "    <path d=\"M120-120v-720h720v720H120Zm60-500h600v-160H180v160Zm220 220h160v-160H400v160Zm0 220h160v-160H400v160ZM180-400h160v-160H180v160Zm440 0h160v-160H620v160ZM180-180h160v-160H180v160Zm440 0h160v-160H620v160Z\"/>\n",
              "  </svg>\n",
              "    </button>\n",
              "\n",
              "  <style>\n",
              "    .colab-df-container {\n",
              "      display:flex;\n",
              "      gap: 12px;\n",
              "    }\n",
              "\n",
              "    .colab-df-convert {\n",
              "      background-color: #E8F0FE;\n",
              "      border: none;\n",
              "      border-radius: 50%;\n",
              "      cursor: pointer;\n",
              "      display: none;\n",
              "      fill: #1967D2;\n",
              "      height: 32px;\n",
              "      padding: 0 0 0 0;\n",
              "      width: 32px;\n",
              "    }\n",
              "\n",
              "    .colab-df-convert:hover {\n",
              "      background-color: #E2EBFA;\n",
              "      box-shadow: 0px 1px 2px rgba(60, 64, 67, 0.3), 0px 1px 3px 1px rgba(60, 64, 67, 0.15);\n",
              "      fill: #174EA6;\n",
              "    }\n",
              "\n",
              "    .colab-df-buttons div {\n",
              "      margin-bottom: 4px;\n",
              "    }\n",
              "\n",
              "    [theme=dark] .colab-df-convert {\n",
              "      background-color: #3B4455;\n",
              "      fill: #D2E3FC;\n",
              "    }\n",
              "\n",
              "    [theme=dark] .colab-df-convert:hover {\n",
              "      background-color: #434B5C;\n",
              "      box-shadow: 0px 1px 3px 1px rgba(0, 0, 0, 0.15);\n",
              "      filter: drop-shadow(0px 1px 2px rgba(0, 0, 0, 0.3));\n",
              "      fill: #FFFFFF;\n",
              "    }\n",
              "  </style>\n",
              "\n",
              "    <script>\n",
              "      const buttonEl =\n",
              "        document.querySelector('#df-985292b1-aacb-4393-8c1e-6eccf6b22cda button.colab-df-convert');\n",
              "      buttonEl.style.display =\n",
              "        google.colab.kernel.accessAllowed ? 'block' : 'none';\n",
              "\n",
              "      async function convertToInteractive(key) {\n",
              "        const element = document.querySelector('#df-985292b1-aacb-4393-8c1e-6eccf6b22cda');\n",
              "        const dataTable =\n",
              "          await google.colab.kernel.invokeFunction('convertToInteractive',\n",
              "                                                    [key], {});\n",
              "        if (!dataTable) return;\n",
              "\n",
              "        const docLinkHtml = 'Like what you see? Visit the ' +\n",
              "          '<a target=\"_blank\" href=https://colab.research.google.com/notebooks/data_table.ipynb>data table notebook</a>'\n",
              "          + ' to learn more about interactive tables.';\n",
              "        element.innerHTML = '';\n",
              "        dataTable['output_type'] = 'display_data';\n",
              "        await google.colab.output.renderOutput(dataTable, element);\n",
              "        const docLink = document.createElement('div');\n",
              "        docLink.innerHTML = docLinkHtml;\n",
              "        element.appendChild(docLink);\n",
              "      }\n",
              "    </script>\n",
              "  </div>\n",
              "\n",
              "\n",
              "  <div id=\"id_c4685a6a-43a3-4abc-b94e-307c7890a2dc\">\n",
              "    <style>\n",
              "      .colab-df-generate {\n",
              "        background-color: #E8F0FE;\n",
              "        border: none;\n",
              "        border-radius: 50%;\n",
              "        cursor: pointer;\n",
              "        display: none;\n",
              "        fill: #1967D2;\n",
              "        height: 32px;\n",
              "        padding: 0 0 0 0;\n",
              "        width: 32px;\n",
              "      }\n",
              "\n",
              "      .colab-df-generate:hover {\n",
              "        background-color: #E2EBFA;\n",
              "        box-shadow: 0px 1px 2px rgba(60, 64, 67, 0.3), 0px 1px 3px 1px rgba(60, 64, 67, 0.15);\n",
              "        fill: #174EA6;\n",
              "      }\n",
              "\n",
              "      [theme=dark] .colab-df-generate {\n",
              "        background-color: #3B4455;\n",
              "        fill: #D2E3FC;\n",
              "      }\n",
              "\n",
              "      [theme=dark] .colab-df-generate:hover {\n",
              "        background-color: #434B5C;\n",
              "        box-shadow: 0px 1px 3px 1px rgba(0, 0, 0, 0.15);\n",
              "        filter: drop-shadow(0px 1px 2px rgba(0, 0, 0, 0.3));\n",
              "        fill: #FFFFFF;\n",
              "      }\n",
              "    </style>\n",
              "    <button class=\"colab-df-generate\" onclick=\"generateWithVariable('results')\"\n",
              "            title=\"Generate code using this dataframe.\"\n",
              "            style=\"display:none;\">\n",
              "\n",
              "  <svg xmlns=\"http://www.w3.org/2000/svg\" height=\"24px\"viewBox=\"0 0 24 24\"\n",
              "       width=\"24px\">\n",
              "    <path d=\"M7,19H8.4L18.45,9,17,7.55,7,17.6ZM5,21V16.75L18.45,3.32a2,2,0,0,1,2.83,0l1.4,1.43a1.91,1.91,0,0,1,.58,1.4,1.91,1.91,0,0,1-.58,1.4L9.25,21ZM18.45,9,17,7.55Zm-12,3A5.31,5.31,0,0,0,4.9,8.1,5.31,5.31,0,0,0,1,6.5,5.31,5.31,0,0,0,4.9,4.9,5.31,5.31,0,0,0,6.5,1,5.31,5.31,0,0,0,8.1,4.9,5.31,5.31,0,0,0,12,6.5,5.46,5.46,0,0,0,6.5,12Z\"/>\n",
              "  </svg>\n",
              "    </button>\n",
              "    <script>\n",
              "      (() => {\n",
              "      const buttonEl =\n",
              "        document.querySelector('#id_c4685a6a-43a3-4abc-b94e-307c7890a2dc button.colab-df-generate');\n",
              "      buttonEl.style.display =\n",
              "        google.colab.kernel.accessAllowed ? 'block' : 'none';\n",
              "\n",
              "      buttonEl.onclick = () => {\n",
              "        google.colab.notebook.generateWithVariable('results');\n",
              "      }\n",
              "      })();\n",
              "    </script>\n",
              "  </div>\n",
              "\n",
              "    </div>\n",
              "  </div>\n"
            ]
          },
          "metadata": {},
          "execution_count": 15
        }
      ],
      "source": [
        "results_temp = pd.DataFrame(\n",
        "    [[\n",
        "        'Dropout NN + Max (ReLu, 2048)',\n",
        "        test_accuracy,\n",
        "        test_loss\n",
        "    ]],\n",
        "    columns=['Model', 'Accuracy', 'Loss']\n",
        ")\n",
        "\n",
        "results = pd.concat([results, results_temp], ignore_index=True)\n",
        "results"
      ]
    },
    {
      "cell_type": "code",
      "execution_count": 16,
      "id": "3d1ab9b9-994f-4210-bb21-4f6a073ef2e9",
      "metadata": {
        "tags": [],
        "id": "3d1ab9b9-994f-4210-bb21-4f6a073ef2e9"
      },
      "outputs": [],
      "source": [
        "data = {\n",
        "    'Train Loss': train_loss_list5,\n",
        "    'Train Accuracy': train_acc_list5,\n",
        "    'Validation Loss': valid_loss_list5,\n",
        "    'Validation Accuracy': valid_acc_list5\n",
        "}\n",
        "\n",
        "# Convert the dictionary to a DataFrame\n",
        "df = pd.DataFrame(data)\n",
        "\n",
        "# Specify the filename\n",
        "filename = 'mnist_dropout_max_relu2.csv'\n",
        "\n",
        "# Write to a CSV file\n",
        "df.to_csv(filename, index=False)"
      ]
    }
  ],
  "metadata": {
    "kernelspec": {
      "display_name": "Python 3",
      "name": "python3"
    },
    "language_info": {
      "codemirror_mode": {
        "name": "ipython",
        "version": 3
      },
      "file_extension": ".py",
      "mimetype": "text/x-python",
      "name": "python",
      "nbconvert_exporter": "python",
      "pygments_lexer": "ipython3",
      "version": "3.11.5"
    },
    "colab": {
      "provenance": [],
      "machine_shape": "hm",
      "gpuType": "A100"
    },
    "accelerator": "GPU"
  },
  "nbformat": 4,
  "nbformat_minor": 5
}