{
 "cells": [
  {
   "cell_type": "code",
   "execution_count": 1,
   "id": "85eec710-5191-42ee-8805-5551a3fa41f2",
   "metadata": {},
   "outputs": [],
   "source": [
    "import torch\n",
    "import torch.nn as nn\n",
    "from collections import OrderedDict\n",
    "from torch.utils.data import DataLoader, TensorDataset\n",
    "import matplotlib.pyplot as plt\n",
    "import numpy as np\n",
    "import pandas as pd\n",
    "import torch.optim as optim\n",
    "import torch.nn.utils as utils"
   ]
  },
  {
   "cell_type": "markdown",
   "id": "5a84b5a8-5002-487e-b152-3c91da4af6ea",
   "metadata": {},
   "source": [
    "# Importing Data"
   ]
  },
  {
   "cell_type": "code",
   "execution_count": 2,
   "id": "7b5e2238-416b-488c-bca4-cd6b5bcc2a77",
   "metadata": {},
   "outputs": [
    {
     "name": "stdout",
     "output_type": "stream",
     "text": [
      "WARNING:tensorflow:From C:\\Users\\canku\\anaconda3\\Lib\\site-packages\\keras\\src\\losses.py:2976: The name tf.losses.sparse_softmax_cross_entropy is deprecated. Please use tf.compat.v1.losses.sparse_softmax_cross_entropy instead.\n",
      "\n"
     ]
    }
   ],
   "source": [
    "import tensorflow as tf\n",
    "from tensorflow.keras.datasets import mnist"
   ]
  },
  {
   "cell_type": "code",
   "execution_count": 3,
   "id": "13940347-3976-402b-b36f-ed1216d5dded",
   "metadata": {},
   "outputs": [],
   "source": [
    "(X_train, y_train), (X_test, y_test) = mnist.load_data()"
   ]
  },
  {
   "cell_type": "code",
   "execution_count": 4,
   "id": "a7b9497c-47f1-4929-a875-415f22d01af5",
   "metadata": {
    "tags": []
   },
   "outputs": [],
   "source": [
    "X_valid = X_train[:10000,...]\n",
    "y_valid = y_train[:10000]\n",
    "\n",
    "X_train = X_train[10000:,...]\n",
    "y_train = y_train[10000:]"
   ]
  },
  {
   "cell_type": "code",
   "execution_count": 5,
   "id": "4a5474d0-ea45-404a-9c20-0d7205c72c8b",
   "metadata": {},
   "outputs": [],
   "source": [
    "X_train_tensor = torch.from_numpy(X_train)\n",
    "y_train_tensor = torch.from_numpy(y_train)\n",
    "X_valid_tensor = torch.from_numpy(X_valid)\n",
    "y_valid_tensor = torch.from_numpy(y_valid)\n",
    "X_test_tensor = torch.from_numpy(X_test)\n",
    "y_test_tensor = torch.from_numpy(y_test)"
   ]
  },
  {
   "cell_type": "code",
   "execution_count": 6,
   "id": "a8038aa6-cfbf-4ddb-95f3-a3185687fe02",
   "metadata": {},
   "outputs": [
    {
     "data": {
      "image/png": "[encoded data removed]",
      "text/plain": [
       "<Figure size 960x720 with 5 Axes>"
      ]
     },
     "metadata": {},
     "output_type": "display_data"
    }
   ],
   "source": [
    "num_images_to_show = 5\n",
    "random_indices = np.random.randint(0, len(X_train), num_images_to_show)\n",
    "plt.figure(dpi=150)\n",
    "\n",
    "# Plotting the images\n",
    "for i, idx in enumerate(random_indices, 1):\n",
    "    plt.subplot(1, num_images_to_show, i)\n",
    "    plt.imshow(X_train[idx].squeeze(), cmap='gray')\n",
    "    plt.title(f\"Label: {y_train[idx]}\")\n",
    "    plt.axis('off')\n",
    "\n",
    "plt.show()"
   ]
  },
  {
   "cell_type": "code",
   "execution_count": 7,
   "id": "9d6f81bc-47c5-44ab-a43d-62b7a550a9bc",
   "metadata": {
    "tags": []
   },
   "outputs": [
    {
     "data": {
      "text/html": [
       "<div>\n",
       "<style scoped>\n",
       "    .dataframe tbody tr th:only-of-type {\n",
       "        vertical-align: middle;\n",
       "    }\n",
       "\n",
       "    .dataframe tbody tr th {\n",
       "        vertical-align: top;\n",
       "    }\n",
       "\n",
       "    .dataframe thead th {\n",
       "        text-align: right;\n",
       "    }\n",
       "</style>\n",
       "<table border=\"1\" class=\"dataframe\">\n",
       "  <thead>\n",
       "    <tr style=\"text-align: right;\">\n",
       "      <th></th>\n",
       "      <th>Model</th>\n",
       "      <th>Accuracy</th>\n",
       "      <th>Loss</th>\n",
       "    </tr>\n",
       "  </thead>\n",
       "  <tbody>\n",
       "  </tbody>\n",
       "</table>\n",
       "</div>"
      ],
      "text/plain": [
       "Empty DataFrame\n",
       "Columns: [Model, Accuracy, Loss]\n",
       "Index: []"
      ]
     },
     "execution_count": 7,
     "metadata": {},
     "output_type": "execute_result"
    }
   ],
   "source": [
    "results = pd.DataFrame(columns=['Model', 'Accuracy', 'Loss'])\n",
    "results"
   ]
  },
  {
   "cell_type": "markdown",
   "id": "dba987f1-5ad0-4d02-af37-28b840a04841",
   "metadata": {},
   "source": [
    "# Dropout NN (Logistic)"
   ]
  },
  {
   "cell_type": "code",
   "execution_count": 8,
   "id": "5cd6b5d8-32fb-421a-8ea1-dcd230e1ec40",
   "metadata": {
    "tags": []
   },
   "outputs": [],
   "source": [
    "train_dataset = TensorDataset(X_train_tensor, y_train_tensor)\n",
    "valid_dataset = TensorDataset(X_valid_tensor, y_valid_tensor)\n",
    "test_dataset = TensorDataset(X_test_tensor, y_test_tensor)\n",
    "\n",
    "train_loader = DataLoader(train_dataset, batch_size=64, shuffle=True)\n",
    "valid_loader = DataLoader(valid_dataset, batch_size=64, shuffle=True)\n",
    "test_loader = DataLoader(test_dataset, batch_size=64, shuffle=False)"
   ]
  },
  {
   "cell_type": "code",
   "execution_count": 9,
   "id": "fc4e4fb0-d51c-4810-ac42-053e25c63131",
   "metadata": {},
   "outputs": [
    {
     "name": "stdout",
     "output_type": "stream",
     "text": [
      "Sequential(\n",
      "  (dropout1): Dropout(p=0.2, inplace=False)\n",
      "  (flatten): Flatten(start_dim=1, end_dim=-1)\n",
      "  (linear1): Linear(in_features=784, out_features=1024, bias=True)\n",
      "  (logistic1): Sigmoid()\n",
      "  (dropout2): Dropout(p=0.7, inplace=False)\n",
      "  (linear2): Linear(in_features=1024, out_features=1024, bias=True)\n",
      "  (logistic2): Sigmoid()\n",
      "  (dropout3): Dropout(p=0.7, inplace=False)\n",
      "  (linear3): Linear(in_features=1024, out_features=1024, bias=True)\n",
      "  (logistic3): Sigmoid()\n",
      "  (dropout4): Dropout(p=0.7, inplace=False)\n",
      "  (linear4): Linear(in_features=1024, out_features=10, bias=True)\n",
      ")\n"
     ]
    }
   ],
   "source": [
    "net = nn.Sequential(\n",
    "    OrderedDict([\n",
    "        ('dropout1', nn.Dropout(0.2)),\n",
    "        ('flatten', nn.Flatten()),\n",
    "        ('linear1', nn.Linear(784, 1024)),\n",
    "        ('logistic1', nn.Sigmoid()),\n",
    "        ('dropout2', nn.Dropout(0.7)),  \n",
    "        ('linear2', nn.Linear(1024, 1024)),  \n",
    "        ('logistic2', nn.Sigmoid()),\n",
    "        ('dropout3', nn.Dropout(0.7)),\n",
    "        ('linear3', nn.Linear(1024, 1024)),  \n",
    "        ('logistic3', nn.Sigmoid()),\n",
    "        ('dropout4', nn.Dropout(0.7)), \n",
    "        ('linear4', nn.Linear(1024, 10)),  \n",
    "    ])\n",
    ")\n",
    "\n",
    "print(net)\n",
    "\n",
    "criterion = nn.CrossEntropyLoss()\n",
    "optimizer = optim.SGD(net.parameters(), lr=0.01, momentum=0.5)\n",
    "\n",
    "train_loss_list2 = list()\n",
    "train_acc_list2 = list()\n",
    "valid_loss_list2 = list()\n",
    "valid_acc_list2 = list()"
   ]
  },
  {
   "cell_type": "code",
   "execution_count": 10,
   "id": "49e3eb31-7b60-4ef1-953f-c1d1a71d5547",
   "metadata": {},
   "outputs": [
    {
     "data": {
      "text/plain": [
       "Sequential(\n",
       "  (dropout1): Dropout(p=0.2, inplace=False)\n",
       "  (flatten): Flatten(start_dim=1, end_dim=-1)\n",
       "  (linear1): Linear(in_features=784, out_features=1024, bias=True)\n",
       "  (logistic1): Sigmoid()\n",
       "  (dropout2): Dropout(p=0.7, inplace=False)\n",
       "  (linear2): Linear(in_features=1024, out_features=1024, bias=True)\n",
       "  (logistic2): Sigmoid()\n",
       "  (dropout3): Dropout(p=0.7, inplace=False)\n",
       "  (linear3): Linear(in_features=1024, out_features=1024, bias=True)\n",
       "  (logistic3): Sigmoid()\n",
       "  (dropout4): Dropout(p=0.7, inplace=False)\n",
       "  (linear4): Linear(in_features=1024, out_features=10, bias=True)\n",
       ")"
      ]
     },
     "execution_count": 10,
     "metadata": {},
     "output_type": "execute_result"
    }
   ],
   "source": [
    "torch.cuda.empty_cache()\n",
    "device = torch.device(\"cuda\" if torch.cuda.is_available() else \"cpu\")\n",
    "#torch.cuda.set_per_process_memory_fraction(0.8, device=device.index)\n",
    "net.to(device)"
   ]
  },
  {
   "cell_type": "code",
   "execution_count": 11,
   "id": "1e29992a-c7ef-47c3-b32f-3926048f9639",
   "metadata": {},
   "outputs": [
    {
     "name": "stdout",
     "output_type": "stream",
     "text": [
      "Epoch 1/625, Train Loss: 2.3691, Train Acc: 0.1065, Valid Loss: 2.2762, Valid Acc: 0.1014\n",
      "Epoch 101/625, Train Loss: 0.2641, Train Acc: 0.9189, Valid Loss: 0.1427, Valid Acc: 0.9575\n",
      "Epoch 201/625, Train Loss: 0.2082, Train Acc: 0.9369, Valid Loss: 0.1107, Valid Acc: 0.9674\n",
      "Epoch 301/625, Train Loss: 0.1759, Train Acc: 0.9441, Valid Loss: 0.0978, Valid Acc: 0.9702\n",
      "Epoch 401/625, Train Loss: 0.1617, Train Acc: 0.9492, Valid Loss: 0.0918, Valid Acc: 0.9724\n",
      "Epoch 501/625, Train Loss: 0.1515, Train Acc: 0.9517, Valid Loss: 0.0863, Valid Acc: 0.9733\n",
      "Epoch 601/625, Train Loss: 0.1412, Train Acc: 0.9558, Valid Loss: 0.0836, Valid Acc: 0.9750\n",
      "Finished Training\n"
     ]
    }
   ],
   "source": [
    "num_epochs = 625\n",
    "seed = 42\n",
    "torch.manual_seed(seed)\n",
    "\n",
    "for epoch in range(num_epochs):\n",
    "    net.train()\n",
    "    running_loss = 0.0\n",
    "    correct_train = 0\n",
    "    total_train = 0\n",
    "\n",
    "    for inputs, labels in train_loader:\n",
    "        optimizer.zero_grad()\n",
    "        inputs = inputs.float()\n",
    "        inputs, labels = inputs.to(device), labels.to(device)\n",
    "        outputs = net(inputs)\n",
    "        loss = criterion(outputs, labels)\n",
    "        loss.backward()\n",
    "        optimizer.step()\n",
    "\n",
    "        running_loss += loss.item()\n",
    "\n",
    "        _, predicted = torch.max(outputs, 1)\n",
    "        total_train += labels.size(0)\n",
    "        correct_train += (predicted == labels).sum().item()\n",
    "\n",
    "    train_accuracy = correct_train / total_train\n",
    "    train_loss = running_loss / len(train_loader)\n",
    "\n",
    "    # Validation Loop\n",
    "    net.eval()\n",
    "    running_loss_valid = 0.0\n",
    "    correct_valid = 0\n",
    "    total_valid = 0\n",
    "\n",
    "    with torch.no_grad():\n",
    "        for inputs_valid, labels_valid in valid_loader:\n",
    "            inputs_valid = inputs_valid.float()\n",
    "            inputs_valid, labels_valid = inputs_valid.to(device), labels_valid.to(device)\n",
    "            outputs_valid = net(inputs_valid)\n",
    "            loss_valid = criterion(outputs_valid, labels_valid)\n",
    "            running_loss_valid += loss_valid.item()\n",
    "\n",
    "            _, predicted_valid = torch.max(outputs_valid.data, 1)\n",
    "            total_valid += labels_valid.size(0)\n",
    "            correct_valid += (predicted_valid == labels_valid).sum().item()\n",
    "\n",
    "    valid_accuracy = correct_valid / total_valid\n",
    "    valid_loss = running_loss_valid / len(valid_loader)\n",
    "\n",
    "    train_loss_list2.append(train_loss)\n",
    "    train_acc_list2.append(train_accuracy)\n",
    "    valid_loss_list2.append(valid_loss)\n",
    "    valid_acc_list2.append(valid_accuracy)\n",
    "    \n",
    "    if epoch%100==0:\n",
    "        print(f'Epoch {epoch + 1}/{num_epochs}, ' +\n",
    "              f'Train Loss: {train_loss:.4f}, Train Acc: {train_accuracy:.4f}, ' +\n",
    "              f'Valid Loss: {valid_loss:.4f}, Valid Acc: {valid_accuracy:.4f}')\n",
    "\n",
    "print('Finished Training')"
   ]
  },
  {
   "cell_type": "code",
   "execution_count": 12,
   "id": "c453a10c-d9dc-4679-b9b5-24459a78d3de",
   "metadata": {
    "tags": []
   },
   "outputs": [
    {
     "data": {
      "image/png": "[encoded data removed]",
      "text/plain": [
       "<Figure size 800x600 with 1 Axes>"
      ]
     },
     "metadata": {},
     "output_type": "display_data"
    }
   ],
   "source": [
    "plt.figure(figsize=(8, 6))\n",
    "plt.plot(train_acc_list2, label='Train Accuracy', lw=3)\n",
    "plt.plot(valid_acc_list2, label='Validation Accuracy', lw=3)\n",
    "plt.xlabel('Epoch')\n",
    "plt.ylabel('Accuracy')\n",
    "plt.title('Train and Validation Accuracy Curves')\n",
    "plt.legend()\n",
    "plt.show()"
   ]
  },
  {
   "cell_type": "code",
   "execution_count": 13,
   "id": "b516cb73-71b9-4565-a2f2-7a5c5c727328",
   "metadata": {},
   "outputs": [
    {
     "data": {
      "image/png": "[encoded data removed]",
      "text/plain": [
       "<Figure size 800x600 with 1 Axes>"
      ]
     },
     "metadata": {},
     "output_type": "display_data"
    }
   ],
   "source": [
    "plt.figure(figsize=(8, 6))\n",
    "plt.plot(train_loss_list2, label='Train Loss', lw=3)\n",
    "plt.plot(valid_loss_list2, label='Validation Loss', lw=3)\n",
    "plt.xlabel('Epoch')\n",
    "plt.ylabel('Loss')\n",
    "plt.title('Train and Validation Loss Curves')\n",
    "plt.legend()\n",
    "plt.show()"
   ]
  },
  {
   "cell_type": "code",
   "execution_count": 14,
   "id": "bba70ef6-9352-45ca-8b31-331b64566a9b",
   "metadata": {},
   "outputs": [
    {
     "name": "stdout",
     "output_type": "stream",
     "text": [
      "Test Loss: 0.0797, Test Acc: 0.9751\n"
     ]
    }
   ],
   "source": [
    "net.eval()\n",
    "running_loss_test = 0.0\n",
    "correct_test = 0\n",
    "total_test = 0\n",
    "\n",
    "with torch.no_grad():\n",
    "    for inputs_test, labels_test in test_loader:\n",
    "        inputs_test = inputs_test.float()\n",
    "        inputs_test, labels_test = inputs_test.to(device), labels_test.to(device)\n",
    "        outputs_test = net(inputs_test)\n",
    "        loss_test = criterion(outputs_test, labels_test)\n",
    "        running_loss_test += loss_test.item()\n",
    "\n",
    "        _, predicted_test = torch.max(outputs_test.data, 1)\n",
    "        total_test += labels_test.size(0)\n",
    "        correct_test += (predicted_test == labels_test).sum().item()\n",
    "\n",
    "test_accuracy = correct_test / total_test\n",
    "test_loss = running_loss_test / len(test_loader)\n",
    "\n",
    "print(f'Test Loss: {test_loss:.4f}, Test Acc: {test_accuracy:.4f}')\n",
    "\n"
   ]
  },
  {
   "cell_type": "code",
   "execution_count": 15,
   "id": "7f899b57-93d4-46f8-bc18-eeb295823c91",
   "metadata": {},
   "outputs": [
    {
     "data": {
      "text/html": [
       "<div>\n",
       "<style scoped>\n",
       "    .dataframe tbody tr th:only-of-type {\n",
       "        vertical-align: middle;\n",
       "    }\n",
       "\n",
       "    .dataframe tbody tr th {\n",
       "        vertical-align: top;\n",
       "    }\n",
       "\n",
       "    .dataframe thead th {\n",
       "        text-align: right;\n",
       "    }\n",
       "</style>\n",
       "<table border=\"1\" class=\"dataframe\">\n",
       "  <thead>\n",
       "    <tr style=\"text-align: right;\">\n",
       "      <th></th>\n",
       "      <th>Model</th>\n",
       "      <th>Accuracy</th>\n",
       "      <th>Loss</th>\n",
       "    </tr>\n",
       "  </thead>\n",
       "  <tbody>\n",
       "    <tr>\n",
       "      <th>0</th>\n",
       "      <td>Dropout NN (Logistic)</td>\n",
       "      <td>0.9751</td>\n",
       "      <td>0.079711</td>\n",
       "    </tr>\n",
       "  </tbody>\n",
       "</table>\n",
       "</div>"
      ],
      "text/plain": [
       "                   Model  Accuracy      Loss\n",
       "0  Dropout NN (Logistic)    0.9751  0.079711"
      ]
     },
     "execution_count": 15,
     "metadata": {},
     "output_type": "execute_result"
    }
   ],
   "source": [
    "results_temp = pd.DataFrame(\n",
    "    [[\n",
    "        'Dropout NN (Logistic)',\n",
    "        test_accuracy,\n",
    "        test_loss\n",
    "    ]],\n",
    "    columns=['Model', 'Accuracy', 'Loss']\n",
    ")\n",
    "\n",
    "results = pd.concat([results, results_temp], ignore_index=True)\n",
    "results"
   ]
  },
  {
   "cell_type": "code",
   "execution_count": 16,
   "id": "9fde3407-6194-414b-bc34-f93712be5883",
   "metadata": {
    "tags": []
   },
   "outputs": [],
   "source": [
    "data = {\n",
    "    'Train Loss': train_loss_list2,\n",
    "    'Train Accuracy': train_acc_list2,\n",
    "    'Validation Loss': valid_loss_list2,\n",
    "    'Validation Accuracy': valid_acc_list2\n",
    "}\n",
    "\n",
    "# Convert the dictionary to a DataFrame\n",
    "df = pd.DataFrame(data)\n",
    "\n",
    "# Specify the filename\n",
    "filename = 'mnist_dropout_log.csv'\n",
    "\n",
    "# Write to a CSV file\n",
    "df.to_csv(filename, index=False)"
   ]
  },
  {
   "cell_type": "code",
   "execution_count": null,
   "id": "71098e9f-cc01-40ae-b096-8294ff52a441",
   "metadata": {},
   "outputs": [],
   "source": []
  }
 ],
 "metadata": {
  "kernelspec": {
   "display_name": "Python 3 (ipykernel)",
   "language": "python",
   "name": "python3"
  },
  "language_info": {
   "codemirror_mode": {
    "name": "ipython",
    "version": 3
   },
   "file_extension": ".py",
   "mimetype": "text/x-python",
   "name": "python",
   "nbconvert_exporter": "python",
   "pygments_lexer": "ipython3",
   "version": "3.11.5"
  }
 },
 "nbformat": 4,
 "nbformat_minor": 5
}
