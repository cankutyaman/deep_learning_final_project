{
 "cells": [
  {
   "cell_type": "code",
   "execution_count": 1,
   "id": "85eec710-5191-42ee-8805-5551a3fa41f2",
   "metadata": {},
   "outputs": [],
   "source": [
    "import torch\n",
    "import torch.nn as nn\n",
    "from collections import OrderedDict\n",
    "from torch.utils.data import DataLoader, TensorDataset\n",
    "import matplotlib.pyplot as plt\n",
    "import numpy as np\n",
    "import pandas as pd\n",
    "import torch.optim as optim\n",
    "import torch.nn.utils as utils"
   ]
  },
  {
   "cell_type": "markdown",
   "id": "5a84b5a8-5002-487e-b152-3c91da4af6ea",
   "metadata": {},
   "source": [
    "# Importing Data"
   ]
  },
  {
   "cell_type": "code",
   "execution_count": 2,
   "id": "7b5e2238-416b-488c-bca4-cd6b5bcc2a77",
   "metadata": {},
   "outputs": [
    {
     "name": "stdout",
     "output_type": "stream",
     "text": [
      "WARNING:tensorflow:From C:\\Users\\canku\\anaconda3\\Lib\\site-packages\\keras\\src\\losses.py:2976: The name tf.losses.sparse_softmax_cross_entropy is deprecated. Please use tf.compat.v1.losses.sparse_softmax_cross_entropy instead.\n",
      "\n"
     ]
    }
   ],
   "source": [
    "import tensorflow as tf\n",
    "from tensorflow.keras.datasets import mnist"
   ]
  },
  {
   "cell_type": "code",
   "execution_count": 3,
   "id": "13940347-3976-402b-b36f-ed1216d5dded",
   "metadata": {},
   "outputs": [],
   "source": [
    "(X_train, y_train), (X_test, y_test) = mnist.load_data()"
   ]
  },
  {
   "cell_type": "code",
   "execution_count": 4,
   "id": "a7b9497c-47f1-4929-a875-415f22d01af5",
   "metadata": {
    "tags": []
   },
   "outputs": [],
   "source": [
    "X_valid = X_train[:10000,...]\n",
    "y_valid = y_train[:10000]\n",
    "\n",
    "X_train = X_train[10000:,...]\n",
    "y_train = y_train[10000:]"
   ]
  },
  {
   "cell_type": "code",
   "execution_count": 5,
   "id": "4a5474d0-ea45-404a-9c20-0d7205c72c8b",
   "metadata": {},
   "outputs": [],
   "source": [
    "X_train_tensor = torch.from_numpy(X_train)\n",
    "y_train_tensor = torch.from_numpy(y_train)\n",
    "X_valid_tensor = torch.from_numpy(X_valid)\n",
    "y_valid_tensor = torch.from_numpy(y_valid)\n",
    "X_test_tensor = torch.from_numpy(X_test)\n",
    "y_test_tensor = torch.from_numpy(y_test)"
   ]
  },
  {
   "cell_type": "code",
   "execution_count": 6,
   "id": "a8038aa6-cfbf-4ddb-95f3-a3185687fe02",
   "metadata": {},
   "outputs": [
    {
     "data": {
      "image/png": "[encoded data removed]",
      "text/plain": [
       "<Figure size 960x720 with 5 Axes>"
      ]
     },
     "metadata": {},
     "output_type": "display_data"
    }
   ],
   "source": [
    "num_images_to_show = 5\n",
    "random_indices = np.random.randint(0, len(X_train), num_images_to_show)\n",
    "plt.figure(dpi=150)\n",
    "\n",
    "# Plotting the images\n",
    "for i, idx in enumerate(random_indices, 1):\n",
    "    plt.subplot(1, num_images_to_show, i)\n",
    "    plt.imshow(X_train[idx].squeeze(), cmap='gray')\n",
    "    plt.title(f\"Label: {y_train[idx]}\")\n",
    "    plt.axis('off')\n",
    "\n",
    "plt.show()"
   ]
  },
  {
   "cell_type": "code",
   "execution_count": 7,
   "id": "9d6f81bc-47c5-44ab-a43d-62b7a550a9bc",
   "metadata": {
    "tags": []
   },
   "outputs": [
    {
     "data": {
      "text/html": [
       "<div>\n",
       "<style scoped>\n",
       "    .dataframe tbody tr th:only-of-type {\n",
       "        vertical-align: middle;\n",
       "    }\n",
       "\n",
       "    .dataframe tbody tr th {\n",
       "        vertical-align: top;\n",
       "    }\n",
       "\n",
       "    .dataframe thead th {\n",
       "        text-align: right;\n",
       "    }\n",
       "</style>\n",
       "<table border=\"1\" class=\"dataframe\">\n",
       "  <thead>\n",
       "    <tr style=\"text-align: right;\">\n",
       "      <th></th>\n",
       "      <th>Model</th>\n",
       "      <th>Accuracy</th>\n",
       "      <th>Loss</th>\n",
       "    </tr>\n",
       "  </thead>\n",
       "  <tbody>\n",
       "  </tbody>\n",
       "</table>\n",
       "</div>"
      ],
      "text/plain": [
       "Empty DataFrame\n",
       "Columns: [Model, Accuracy, Loss]\n",
       "Index: []"
      ]
     },
     "execution_count": 7,
     "metadata": {},
     "output_type": "execute_result"
    }
   ],
   "source": [
    "results = pd.DataFrame(columns=['Model', 'Accuracy', 'Loss'])\n",
    "results"
   ]
  },
  {
   "cell_type": "markdown",
   "id": "0eaa7e5e-62fd-4698-8e6c-1592033786c8",
   "metadata": {
    "tags": []
   },
   "source": [
    "# Dropout NN (ReLu)"
   ]
  },
  {
   "cell_type": "code",
   "execution_count": 8,
   "id": "ccee5144-4700-42a5-bbc9-cadefc209a1e",
   "metadata": {},
   "outputs": [],
   "source": [
    "train_dataset = TensorDataset(X_train_tensor, y_train_tensor)\n",
    "valid_dataset = TensorDataset(X_valid_tensor, y_valid_tensor)\n",
    "test_dataset = TensorDataset(X_test_tensor, y_test_tensor)\n",
    "\n",
    "train_loader = DataLoader(train_dataset, batch_size=64, shuffle=True)\n",
    "valid_loader = DataLoader(valid_dataset, batch_size=64, shuffle=True)\n",
    "test_loader = DataLoader(test_dataset, batch_size=64, shuffle=False)"
   ]
  },
  {
   "cell_type": "code",
   "execution_count": 9,
   "id": "c90f881e-3dc0-4e3b-b2b4-a482dc7b620a",
   "metadata": {},
   "outputs": [
    {
     "name": "stdout",
     "output_type": "stream",
     "text": [
      "Sequential(\n",
      "  (dropout1): Dropout(p=0.2, inplace=False)\n",
      "  (flatten): Flatten(start_dim=1, end_dim=-1)\n",
      "  (linear1): Linear(in_features=784, out_features=1024, bias=True)\n",
      "  (relu1): ReLU()\n",
      "  (dropout2): Dropout(p=0.7, inplace=False)\n",
      "  (linear2): Linear(in_features=1024, out_features=1024, bias=True)\n",
      "  (relu2): ReLU()\n",
      "  (dropout3): Dropout(p=0.7, inplace=False)\n",
      "  (linear3): Linear(in_features=1024, out_features=1024, bias=True)\n",
      "  (relu3): ReLU()\n",
      "  (dropout4): Dropout(p=0.7, inplace=False)\n",
      "  (linear4): Linear(in_features=1024, out_features=10, bias=True)\n",
      ")\n"
     ]
    }
   ],
   "source": [
    "net = nn.Sequential(\n",
    "    OrderedDict([\n",
    "        ('dropout1', nn.Dropout(0.2)),\n",
    "        ('flatten', nn.Flatten()),\n",
    "        ('linear1', nn.Linear(784, 1024)),\n",
    "        ('relu1', nn.ReLU()),\n",
    "        ('dropout2', nn.Dropout(0.7)),  \n",
    "        ('linear2', nn.Linear(1024, 1024)),  \n",
    "        ('relu2', nn.ReLU()),\n",
    "        ('dropout3', nn.Dropout(0.7)),\n",
    "        ('linear3', nn.Linear(1024, 1024)),  \n",
    "        ('relu3', nn.ReLU()),\n",
    "        ('dropout4', nn.Dropout(0.7)), \n",
    "        ('linear4', nn.Linear(1024, 10)),  \n",
    "    ])\n",
    ")\n",
    "\n",
    "print(net)\n",
    "\n",
    "criterion = nn.CrossEntropyLoss()\n",
    "optimizer = optim.SGD(net.parameters(), lr=0.001, momentum=0.5)\n",
    "\n",
    "train_loss_list3 = list()\n",
    "train_acc_list3 = list()\n",
    "valid_loss_list3 = list()\n",
    "valid_acc_list3 = list()"
   ]
  },
  {
   "cell_type": "code",
   "execution_count": 10,
   "id": "9dde3a5f-088e-40d9-a428-38c21f1eac30",
   "metadata": {},
   "outputs": [
    {
     "data": {
      "text/plain": [
       "Sequential(\n",
       "  (dropout1): Dropout(p=0.2, inplace=False)\n",
       "  (flatten): Flatten(start_dim=1, end_dim=-1)\n",
       "  (linear1): Linear(in_features=784, out_features=1024, bias=True)\n",
       "  (relu1): ReLU()\n",
       "  (dropout2): Dropout(p=0.7, inplace=False)\n",
       "  (linear2): Linear(in_features=1024, out_features=1024, bias=True)\n",
       "  (relu2): ReLU()\n",
       "  (dropout3): Dropout(p=0.7, inplace=False)\n",
       "  (linear3): Linear(in_features=1024, out_features=1024, bias=True)\n",
       "  (relu3): ReLU()\n",
       "  (dropout4): Dropout(p=0.7, inplace=False)\n",
       "  (linear4): Linear(in_features=1024, out_features=10, bias=True)\n",
       ")"
      ]
     },
     "execution_count": 10,
     "metadata": {},
     "output_type": "execute_result"
    }
   ],
   "source": [
    "torch.cuda.empty_cache()\n",
    "device = torch.device(\"cuda\" if torch.cuda.is_available() else \"cpu\")\n",
    "#torch.cuda.set_per_process_memory_fraction(0.8, device=device.index)\n",
    "net.to(device)"
   ]
  },
  {
   "cell_type": "code",
   "execution_count": 11,
   "id": "64f1ab22-1634-4146-9944-05ba67bb1688",
   "metadata": {},
   "outputs": [
    {
     "name": "stdout",
     "output_type": "stream",
     "text": [
      "Epoch 1/625, Train Loss: 2.5970, Train Acc: 0.4259, Valid Loss: 0.8879, Valid Acc: 0.8180\n",
      "Epoch 101/625, Train Loss: 0.1991, Train Acc: 0.9448, Valid Loss: 0.1742, Valid Acc: 0.9692\n",
      "Epoch 201/625, Train Loss: 0.1527, Train Acc: 0.9560, Valid Loss: 0.1438, Valid Acc: 0.9730\n",
      "Epoch 301/625, Train Loss: 0.1247, Train Acc: 0.9646, Valid Loss: 0.1333, Valid Acc: 0.9748\n",
      "Epoch 401/625, Train Loss: 0.1105, Train Acc: 0.9679, Valid Loss: 0.1255, Valid Acc: 0.9729\n",
      "Epoch 501/625, Train Loss: 0.0976, Train Acc: 0.9714, Valid Loss: 0.1158, Valid Acc: 0.9737\n",
      "Epoch 601/625, Train Loss: 0.0922, Train Acc: 0.9725, Valid Loss: 0.1144, Valid Acc: 0.9719\n",
      "Finished Training\n"
     ]
    }
   ],
   "source": [
    "num_epochs = 625\n",
    "seed = 42\n",
    "torch.manual_seed(seed)\n",
    "\n",
    "for epoch in range(num_epochs):\n",
    "    net.train()\n",
    "    running_loss = 0.0\n",
    "    correct_train = 0\n",
    "    total_train = 0\n",
    "\n",
    "    for inputs, labels in train_loader:\n",
    "        optimizer.zero_grad()\n",
    "        inputs = inputs.float()\n",
    "        inputs, labels = inputs.to(device), labels.to(device)\n",
    "        outputs = net(inputs)\n",
    "        loss = criterion(outputs, labels)\n",
    "        loss.backward()\n",
    "        optimizer.step()\n",
    "\n",
    "        running_loss += loss.item()\n",
    "\n",
    "        _, predicted = torch.max(outputs, 1)\n",
    "        total_train += labels.size(0)\n",
    "        correct_train += (predicted == labels).sum().item()\n",
    "\n",
    "    train_accuracy = correct_train / total_train\n",
    "    train_loss = running_loss / len(train_loader)\n",
    "\n",
    "    # Validation Loop\n",
    "    net.eval()\n",
    "    running_loss_valid = 0.0\n",
    "    correct_valid = 0\n",
    "    total_valid = 0\n",
    "\n",
    "    with torch.no_grad():\n",
    "        for inputs_valid, labels_valid in valid_loader:\n",
    "            inputs_valid = inputs_valid.float()\n",
    "            inputs_valid, labels_valid = inputs_valid.to(device), labels_valid.to(device)\n",
    "            outputs_valid = net(inputs_valid)\n",
    "            loss_valid = criterion(outputs_valid, labels_valid)\n",
    "            running_loss_valid += loss_valid.item()\n",
    "\n",
    "            _, predicted_valid = torch.max(outputs_valid.data, 1)\n",
    "            total_valid += labels_valid.size(0)\n",
    "            correct_valid += (predicted_valid == labels_valid).sum().item()\n",
    "\n",
    "    valid_accuracy = correct_valid / total_valid\n",
    "    valid_loss = running_loss_valid / len(valid_loader)\n",
    "\n",
    "    train_loss_list3.append(train_loss)\n",
    "    train_acc_list3.append(train_accuracy)\n",
    "    valid_loss_list3.append(valid_loss)\n",
    "    valid_acc_list3.append(valid_accuracy)\n",
    "    \n",
    "    if epoch%100==0:\n",
    "        print(f'Epoch {epoch + 1}/{num_epochs}, ' +\n",
    "              f'Train Loss: {train_loss:.4f}, Train Acc: {train_accuracy:.4f}, ' +\n",
    "              f'Valid Loss: {valid_loss:.4f}, Valid Acc: {valid_accuracy:.4f}')\n",
    "\n",
    "print('Finished Training')"
   ]
  },
  {
   "cell_type": "code",
   "execution_count": 12,
   "id": "2e6c9a9a-5293-4736-8818-6480b32b861d",
   "metadata": {},
   "outputs": [
    {
     "data": {
      "image/png": "[encoded data removed]",
      "text/plain": [
       "<Figure size 800x600 with 1 Axes>"
      ]
     },
     "metadata": {},
     "output_type": "display_data"
    }
   ],
   "source": [
    "plt.figure(figsize=(8, 6))\n",
    "plt.plot(train_acc_list3, label='Train Accuracy', lw=3)\n",
    "plt.plot(valid_acc_list3, label='Validation Accuracy', lw=3)\n",
    "plt.xlabel('Epoch')\n",
    "plt.ylabel('Accuracy')\n",
    "plt.title('Train and Validation Accuracy Curves')\n",
    "plt.legend()\n",
    "plt.show()"
   ]
  },
  {
   "cell_type": "code",
   "execution_count": 13,
   "id": "afcd9996-a6d3-43bf-bcbc-63ae4497a98c",
   "metadata": {},
   "outputs": [
    {
     "data": {
      "image/png": "[encoded data removed]",
      "text/plain": [
       "<Figure size 800x600 with 1 Axes>"
      ]
     },
     "metadata": {},
     "output_type": "display_data"
    }
   ],
   "source": [
    "plt.figure(figsize=(8, 6))\n",
    "plt.plot(train_loss_list3, label='Train Loss', lw=3)\n",
    "plt.plot(valid_loss_list3, label='Validation Loss', lw=3)\n",
    "plt.xlabel('Epoch')\n",
    "plt.ylabel('Loss')\n",
    "plt.title('Train and Validation Loss Curves')\n",
    "plt.legend()\n",
    "plt.show()"
   ]
  },
  {
   "cell_type": "code",
   "execution_count": 14,
   "id": "f86b02eb-ffd2-44a6-9de9-d53feac91f07",
   "metadata": {},
   "outputs": [
    {
     "name": "stdout",
     "output_type": "stream",
     "text": [
      "Test Loss: 0.1071, Test Acc: 0.9726\n"
     ]
    }
   ],
   "source": [
    "net.eval()\n",
    "running_loss_test = 0.0\n",
    "correct_test = 0\n",
    "total_test = 0\n",
    "\n",
    "with torch.no_grad():\n",
    "    for inputs_test, labels_test in test_loader:\n",
    "        inputs_test = inputs_test.float()\n",
    "        inputs_test, labels_test = inputs_test.to(device), labels_test.to(device)\n",
    "        outputs_test = net(inputs_test)\n",
    "        loss_test = criterion(outputs_test, labels_test)\n",
    "        running_loss_test += loss_test.item()\n",
    "\n",
    "        _, predicted_test = torch.max(outputs_test.data, 1)\n",
    "        total_test += labels_test.size(0)\n",
    "        correct_test += (predicted_test == labels_test).sum().item()\n",
    "\n",
    "test_accuracy = correct_test / total_test\n",
    "test_loss = running_loss_test / len(test_loader)\n",
    "\n",
    "print(f'Test Loss: {test_loss:.4f}, Test Acc: {test_accuracy:.4f}')\n",
    "\n"
   ]
  },
  {
   "cell_type": "code",
   "execution_count": 15,
   "id": "e753121b-b2d0-449b-bf7c-8f466d4abb4c",
   "metadata": {},
   "outputs": [
    {
     "data": {
      "text/html": [
       "<div>\n",
       "<style scoped>\n",
       "    .dataframe tbody tr th:only-of-type {\n",
       "        vertical-align: middle;\n",
       "    }\n",
       "\n",
       "    .dataframe tbody tr th {\n",
       "        vertical-align: top;\n",
       "    }\n",
       "\n",
       "    .dataframe thead th {\n",
       "        text-align: right;\n",
       "    }\n",
       "</style>\n",
       "<table border=\"1\" class=\"dataframe\">\n",
       "  <thead>\n",
       "    <tr style=\"text-align: right;\">\n",
       "      <th></th>\n",
       "      <th>Model</th>\n",
       "      <th>Accuracy</th>\n",
       "      <th>Loss</th>\n",
       "    </tr>\n",
       "  </thead>\n",
       "  <tbody>\n",
       "    <tr>\n",
       "      <th>0</th>\n",
       "      <td>Dropout NN (ReLu)</td>\n",
       "      <td>0.9726</td>\n",
       "      <td>0.107103</td>\n",
       "    </tr>\n",
       "  </tbody>\n",
       "</table>\n",
       "</div>"
      ],
      "text/plain": [
       "               Model  Accuracy      Loss\n",
       "0  Dropout NN (ReLu)    0.9726  0.107103"
      ]
     },
     "execution_count": 15,
     "metadata": {},
     "output_type": "execute_result"
    }
   ],
   "source": [
    "results_temp = pd.DataFrame(\n",
    "    [[\n",
    "        'Dropout NN (ReLu)',\n",
    "        test_accuracy,\n",
    "        test_loss\n",
    "    ]],\n",
    "    columns=['Model', 'Accuracy', 'Loss']\n",
    ")\n",
    "\n",
    "results = pd.concat([results, results_temp], ignore_index=True)\n",
    "results"
   ]
  },
  {
   "cell_type": "code",
   "execution_count": 16,
   "id": "781d7619-c681-422d-bd43-7a3514a527cb",
   "metadata": {
    "tags": []
   },
   "outputs": [],
   "source": [
    "data = {\n",
    "    'Train Loss': train_loss_list3,\n",
    "    'Train Accuracy': train_acc_list3,\n",
    "    'Validation Loss': valid_loss_list3,\n",
    "    'Validation Accuracy': valid_acc_list3\n",
    "}\n",
    "\n",
    "# Convert the dictionary to a DataFrame\n",
    "df = pd.DataFrame(data)\n",
    "\n",
    "# Specify the filename\n",
    "filename = 'mnist_dropout_relu.csv'\n",
    "\n",
    "# Write to a CSV file\n",
    "df.to_csv(filename, index=False)"
   ]
  }
 ],
 "metadata": {
  "kernelspec": {
   "display_name": "Python 3 (ipykernel)",
   "language": "python",
   "name": "python3"
  },
  "language_info": {
   "codemirror_mode": {
    "name": "ipython",
    "version": 3
   },
   "file_extension": ".py",
   "mimetype": "text/x-python",
   "name": "python",
   "nbconvert_exporter": "python",
   "pygments_lexer": "ipython3",
   "version": "3.11.5"
  }
 },
 "nbformat": 4,
 "nbformat_minor": 5
}
