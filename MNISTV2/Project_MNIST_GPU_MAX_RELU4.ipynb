{
  "cells": [
    {
      "cell_type": "code",
      "execution_count": 1,
      "id": "85eec710-5191-42ee-8805-5551a3fa41f2",
      "metadata": {
        "id": "85eec710-5191-42ee-8805-5551a3fa41f2"
      },
      "outputs": [],
      "source": [
        "import torch\n",
        "import torch.nn as nn\n",
        "from collections import OrderedDict\n",
        "from torch.utils.data import DataLoader, TensorDataset\n",
        "import matplotlib.pyplot as plt\n",
        "import numpy as np\n",
        "import pandas as pd\n",
        "import torch.optim as optim\n",
        "import torch.nn.utils as utils"
      ]
    },
    {
      "cell_type": "markdown",
      "id": "5a84b5a8-5002-487e-b152-3c91da4af6ea",
      "metadata": {
        "id": "5a84b5a8-5002-487e-b152-3c91da4af6ea"
      },
      "source": [
        "# Importing Data"
      ]
    },
    {
      "cell_type": "code",
      "execution_count": 2,
      "id": "7b5e2238-416b-488c-bca4-cd6b5bcc2a77",
      "metadata": {
        "id": "7b5e2238-416b-488c-bca4-cd6b5bcc2a77"
      },
      "outputs": [],
      "source": [
        "import tensorflow as tf\n",
        "from tensorflow.keras.datasets import mnist"
      ]
    },
    {
      "cell_type": "code",
      "execution_count": 3,
      "id": "13940347-3976-402b-b36f-ed1216d5dded",
      "metadata": {
        "colab": {
          "base_uri": "https://localhost:8080/"
        },
        "id": "13940347-3976-402b-b36f-ed1216d5dded",
        "outputId": "2664c4cb-8dab-4fc9-d635-62ecea6f8bbd"
      },
      "outputs": [
        {
          "output_type": "stream",
          "name": "stdout",
          "text": [
            "Downloading data from https://storage.googleapis.com/tensorflow/tf-keras-datasets/mnist.npz\n",
            "11490434/11490434 [==============================] - 2s 0us/step\n"
          ]
        }
      ],
      "source": [
        "(X_train, y_train), (X_test, y_test) = mnist.load_data()"
      ]
    },
    {
      "cell_type": "code",
      "execution_count": 4,
      "id": "a7b9497c-47f1-4929-a875-415f22d01af5",
      "metadata": {
        "tags": [],
        "id": "a7b9497c-47f1-4929-a875-415f22d01af5"
      },
      "outputs": [],
      "source": [
        "X_valid = X_train[:10000,...]\n",
        "y_valid = y_train[:10000]\n",
        "\n",
        "X_train = X_train[10000:,...]\n",
        "y_train = y_train[10000:]"
      ]
    },
    {
      "cell_type": "code",
      "execution_count": 5,
      "id": "4a5474d0-ea45-404a-9c20-0d7205c72c8b",
      "metadata": {
        "id": "4a5474d0-ea45-404a-9c20-0d7205c72c8b"
      },
      "outputs": [],
      "source": [
        "X_train_tensor = torch.from_numpy(X_train)\n",
        "y_train_tensor = torch.from_numpy(y_train)\n",
        "X_valid_tensor = torch.from_numpy(X_valid)\n",
        "y_valid_tensor = torch.from_numpy(y_valid)\n",
        "X_test_tensor = torch.from_numpy(X_test)\n",
        "y_test_tensor = torch.from_numpy(y_test)"
      ]
    },
    {
      "cell_type": "code",
      "execution_count": 6,
      "id": "a8038aa6-cfbf-4ddb-95f3-a3185687fe02",
      "metadata": {
        "colab": {
          "base_uri": "https://localhost:8080/",
          "height": 206
        },
        "id": "a8038aa6-cfbf-4ddb-95f3-a3185687fe02",
        "outputId": "dbbb2c71-4933-4c97-97e4-c41012716eb1"
      },
      "outputs": [
        {
          "output_type": "display_data",
          "data": {
            "text/plain": [
              "<Figure size 960x720 with 5 Axes>"
            ],
            "image/png": "[encoded data removed]"
          },
          "metadata": {}
        }
      ],
      "source": [
        "num_images_to_show = 5\n",
        "random_indices = np.random.randint(0, len(X_train), num_images_to_show)\n",
        "plt.figure(dpi=150)\n",
        "\n",
        "# Plotting the images\n",
        "for i, idx in enumerate(random_indices, 1):\n",
        "    plt.subplot(1, num_images_to_show, i)\n",
        "    plt.imshow(X_train[idx].squeeze(), cmap='gray')\n",
        "    plt.title(f\"Label: {y_train[idx]}\")\n",
        "    plt.axis('off')\n",
        "\n",
        "plt.show()"
      ]
    },
    {
      "cell_type": "code",
      "execution_count": 7,
      "id": "9d6f81bc-47c5-44ab-a43d-62b7a550a9bc",
      "metadata": {
        "tags": [],
        "colab": {
          "base_uri": "https://localhost:8080/",
          "height": 89
        },
        "id": "9d6f81bc-47c5-44ab-a43d-62b7a550a9bc",
        "outputId": "b3efa99b-a449-4405-9e17-66818a8a8a98"
      },
      "outputs": [
        {
          "output_type": "execute_result",
          "data": {
            "text/plain": [
              "Empty DataFrame\n",
              "Columns: [Model, Accuracy, Loss]\n",
              "Index: []"
            ],
            "text/html": [
              "\n",
              "  <div id=\"df-1fdfdb98-eaf0-4d35-9508-ae21a9a7c60e\" class=\"colab-df-container\">\n",
              "    <div>\n",
              "<style scoped>\n",
              "    .dataframe tbody tr th:only-of-type {\n",
              "        vertical-align: middle;\n",
              "    }\n",
              "\n",
              "    .dataframe tbody tr th {\n",
              "        vertical-align: top;\n",
              "    }\n",
              "\n",
              "    .dataframe thead th {\n",
              "        text-align: right;\n",
              "    }\n",
              "</style>\n",
              "<table border=\"1\" class=\"dataframe\">\n",
              "  <thead>\n",
              "    <tr style=\"text-align: right;\">\n",
              "      <th></th>\n",
              "      <th>Model</th>\n",
              "      <th>Accuracy</th>\n",
              "      <th>Loss</th>\n",
              "    </tr>\n",
              "  </thead>\n",
              "  <tbody>\n",
              "  </tbody>\n",
              "</table>\n",
              "</div>\n",
              "    <div class=\"colab-df-buttons\">\n",
              "\n",
              "  <div class=\"colab-df-container\">\n",
              "    <button class=\"colab-df-convert\" onclick=\"convertToInteractive('df-1fdfdb98-eaf0-4d35-9508-ae21a9a7c60e')\"\n",
              "            title=\"Convert this dataframe to an interactive table.\"\n",
              "            style=\"display:none;\">\n",
              "\n",
              "  <svg xmlns=\"http://www.w3.org/2000/svg\" height=\"24px\" viewBox=\"0 -960 960 960\">\n",
              "    <path d=\"M120-120v-720h720v720H120Zm60-500h600v-160H180v160Zm220 220h160v-160H400v160Zm0 220h160v-160H400v160ZM180-400h160v-160H180v160Zm440 0h160v-160H620v160ZM180-180h160v-160H180v160Zm440 0h160v-160H620v160Z\"/>\n",
              "  </svg>\n",
              "    </button>\n",
              "\n",
              "  <style>\n",
              "    .colab-df-container {\n",
              "      display:flex;\n",
              "      gap: 12px;\n",
              "    }\n",
              "\n",
              "    .colab-df-convert {\n",
              "      background-color: #E8F0FE;\n",
              "      border: none;\n",
              "      border-radius: 50%;\n",
              "      cursor: pointer;\n",
              "      display: none;\n",
              "      fill: #1967D2;\n",
              "      height: 32px;\n",
              "      padding: 0 0 0 0;\n",
              "      width: 32px;\n",
              "    }\n",
              "\n",
              "    .colab-df-convert:hover {\n",
              "      background-color: #E2EBFA;\n",
              "      box-shadow: 0px 1px 2px rgba(60, 64, 67, 0.3), 0px 1px 3px 1px rgba(60, 64, 67, 0.15);\n",
              "      fill: #174EA6;\n",
              "    }\n",
              "\n",
              "    .colab-df-buttons div {\n",
              "      margin-bottom: 4px;\n",
              "    }\n",
              "\n",
              "    [theme=dark] .colab-df-convert {\n",
              "      background-color: #3B4455;\n",
              "      fill: #D2E3FC;\n",
              "    }\n",
              "\n",
              "    [theme=dark] .colab-df-convert:hover {\n",
              "      background-color: #434B5C;\n",
              "      box-shadow: 0px 1px 3px 1px rgba(0, 0, 0, 0.15);\n",
              "      filter: drop-shadow(0px 1px 2px rgba(0, 0, 0, 0.3));\n",
              "      fill: #FFFFFF;\n",
              "    }\n",
              "  </style>\n",
              "\n",
              "    <script>\n",
              "      const buttonEl =\n",
              "        document.querySelector('#df-1fdfdb98-eaf0-4d35-9508-ae21a9a7c60e button.colab-df-convert');\n",
              "      buttonEl.style.display =\n",
              "        google.colab.kernel.accessAllowed ? 'block' : 'none';\n",
              "\n",
              "      async function convertToInteractive(key) {\n",
              "        const element = document.querySelector('#df-1fdfdb98-eaf0-4d35-9508-ae21a9a7c60e');\n",
              "        const dataTable =\n",
              "          await google.colab.kernel.invokeFunction('convertToInteractive',\n",
              "                                                    [key], {});\n",
              "        if (!dataTable) return;\n",
              "\n",
              "        const docLinkHtml = 'Like what you see? Visit the ' +\n",
              "          '<a target=\"_blank\" href=https://colab.research.google.com/notebooks/data_table.ipynb>data table notebook</a>'\n",
              "          + ' to learn more about interactive tables.';\n",
              "        element.innerHTML = '';\n",
              "        dataTable['output_type'] = 'display_data';\n",
              "        await google.colab.output.renderOutput(dataTable, element);\n",
              "        const docLink = document.createElement('div');\n",
              "        docLink.innerHTML = docLinkHtml;\n",
              "        element.appendChild(docLink);\n",
              "      }\n",
              "    </script>\n",
              "  </div>\n",
              "\n",
              "\n",
              "  <div id=\"id_fccf0ff8-b765-4cb1-8779-ce95eaa2109d\">\n",
              "    <style>\n",
              "      .colab-df-generate {\n",
              "        background-color: #E8F0FE;\n",
              "        border: none;\n",
              "        border-radius: 50%;\n",
              "        cursor: pointer;\n",
              "        display: none;\n",
              "        fill: #1967D2;\n",
              "        height: 32px;\n",
              "        padding: 0 0 0 0;\n",
              "        width: 32px;\n",
              "      }\n",
              "\n",
              "      .colab-df-generate:hover {\n",
              "        background-color: #E2EBFA;\n",
              "        box-shadow: 0px 1px 2px rgba(60, 64, 67, 0.3), 0px 1px 3px 1px rgba(60, 64, 67, 0.15);\n",
              "        fill: #174EA6;\n",
              "      }\n",
              "\n",
              "      [theme=dark] .colab-df-generate {\n",
              "        background-color: #3B4455;\n",
              "        fill: #D2E3FC;\n",
              "      }\n",
              "\n",
              "      [theme=dark] .colab-df-generate:hover {\n",
              "        background-color: #434B5C;\n",
              "        box-shadow: 0px 1px 3px 1px rgba(0, 0, 0, 0.15);\n",
              "        filter: drop-shadow(0px 1px 2px rgba(0, 0, 0, 0.3));\n",
              "        fill: #FFFFFF;\n",
              "      }\n",
              "    </style>\n",
              "    <button class=\"colab-df-generate\" onclick=\"generateWithVariable('results')\"\n",
              "            title=\"Generate code using this dataframe.\"\n",
              "            style=\"display:none;\">\n",
              "\n",
              "  <svg xmlns=\"http://www.w3.org/2000/svg\" height=\"24px\"viewBox=\"0 0 24 24\"\n",
              "       width=\"24px\">\n",
              "    <path d=\"M7,19H8.4L18.45,9,17,7.55,7,17.6ZM5,21V16.75L18.45,3.32a2,2,0,0,1,2.83,0l1.4,1.43a1.91,1.91,0,0,1,.58,1.4,1.91,1.91,0,0,1-.58,1.4L9.25,21ZM18.45,9,17,7.55Zm-12,3A5.31,5.31,0,0,0,4.9,8.1,5.31,5.31,0,0,0,1,6.5,5.31,5.31,0,0,0,4.9,4.9,5.31,5.31,0,0,0,6.5,1,5.31,5.31,0,0,0,8.1,4.9,5.31,5.31,0,0,0,12,6.5,5.46,5.46,0,0,0,6.5,12Z\"/>\n",
              "  </svg>\n",
              "    </button>\n",
              "    <script>\n",
              "      (() => {\n",
              "      const buttonEl =\n",
              "        document.querySelector('#id_fccf0ff8-b765-4cb1-8779-ce95eaa2109d button.colab-df-generate');\n",
              "      buttonEl.style.display =\n",
              "        google.colab.kernel.accessAllowed ? 'block' : 'none';\n",
              "\n",
              "      buttonEl.onclick = () => {\n",
              "        google.colab.notebook.generateWithVariable('results');\n",
              "      }\n",
              "      })();\n",
              "    </script>\n",
              "  </div>\n",
              "\n",
              "    </div>\n",
              "  </div>\n"
            ]
          },
          "metadata": {},
          "execution_count": 7
        }
      ],
      "source": [
        "results = pd.DataFrame(columns=['Model', 'Accuracy', 'Loss'])\n",
        "results"
      ]
    },
    {
      "cell_type": "markdown",
      "id": "a9f68449-074d-4a63-b14e-050be4cd25f9",
      "metadata": {
        "id": "a9f68449-074d-4a63-b14e-050be4cd25f9"
      },
      "source": [
        "# Dropout NN + Max Norm (ReLu, 8192)"
      ]
    },
    {
      "cell_type": "code",
      "execution_count": 8,
      "id": "7ac5e43e-cf6a-408c-af5a-38aef942ec03",
      "metadata": {
        "id": "7ac5e43e-cf6a-408c-af5a-38aef942ec03"
      },
      "outputs": [],
      "source": [
        "train_dataset = TensorDataset(X_train_tensor, y_train_tensor)\n",
        "valid_dataset = TensorDataset(X_valid_tensor, y_valid_tensor)\n",
        "test_dataset = TensorDataset(X_test_tensor, y_test_tensor)\n",
        "\n",
        "train_loader = DataLoader(train_dataset, batch_size=64, shuffle=True)\n",
        "valid_loader = DataLoader(valid_dataset, batch_size=64, shuffle=True)\n",
        "test_loader = DataLoader(test_dataset, batch_size=64, shuffle=False)"
      ]
    },
    {
      "cell_type": "code",
      "execution_count": 9,
      "id": "a0c1e4a0-6ea9-4d52-86a3-208947d9efeb",
      "metadata": {
        "colab": {
          "base_uri": "https://localhost:8080/"
        },
        "id": "a0c1e4a0-6ea9-4d52-86a3-208947d9efeb",
        "outputId": "f60e4d8b-644b-4f3b-b00d-f3ec7dcab037"
      },
      "outputs": [
        {
          "output_type": "stream",
          "name": "stdout",
          "text": [
            "Sequential(\n",
            "  (dropout1): Dropout(p=0.2, inplace=False)\n",
            "  (flatten): Flatten(start_dim=1, end_dim=-1)\n",
            "  (linear1): Linear(in_features=784, out_features=8192, bias=True)\n",
            "  (relu1): ReLU()\n",
            "  (dropout2): Dropout(p=0.7, inplace=False)\n",
            "  (linear2): Linear(in_features=8192, out_features=8192, bias=True)\n",
            "  (relu2): ReLU()\n",
            "  (dropout3): Dropout(p=0.7, inplace=False)\n",
            "  (linear3): Linear(in_features=8192, out_features=8192, bias=True)\n",
            "  (relu3): ReLU()\n",
            "  (dropout4): Dropout(p=0.7, inplace=False)\n",
            "  (linear4): Linear(in_features=8192, out_features=10, bias=True)\n",
            ")\n"
          ]
        }
      ],
      "source": [
        "net = nn.Sequential(\n",
        "    OrderedDict([\n",
        "        ('dropout1', nn.Dropout(0.2)),\n",
        "        ('flatten', nn.Flatten()),\n",
        "        ('linear1', nn.Linear(784, 8192)),\n",
        "        ('relu1', nn.ReLU()),\n",
        "        ('dropout2', nn.Dropout(0.7)),\n",
        "        ('linear2', nn.Linear(8192, 8192)),\n",
        "        ('relu2', nn.ReLU()),\n",
        "        ('dropout3', nn.Dropout(0.7)),\n",
        "        ('linear3', nn.Linear(8192, 8192)),\n",
        "        ('relu3', nn.ReLU()),\n",
        "        ('dropout4', nn.Dropout(0.7)),\n",
        "        ('linear4', nn.Linear(8192, 10)),\n",
        "    ])\n",
        ")\n",
        "\n",
        "print(net)\n",
        "\n",
        "criterion = nn.CrossEntropyLoss()\n",
        "optimizer = optim.SGD(net.parameters(), lr=0.01, momentum=0.5)\n",
        "\n",
        "train_loss_list7 = list()\n",
        "train_acc_list7 = list()\n",
        "valid_loss_list7 = list()\n",
        "valid_acc_list7 = list()"
      ]
    },
    {
      "cell_type": "code",
      "execution_count": 10,
      "id": "446ebabc-a672-4bdf-b147-53ede4609aa3",
      "metadata": {
        "colab": {
          "base_uri": "https://localhost:8080/"
        },
        "id": "446ebabc-a672-4bdf-b147-53ede4609aa3",
        "outputId": "8797dc9c-c0b0-4c48-f4a4-216b50806929"
      },
      "outputs": [
        {
          "output_type": "execute_result",
          "data": {
            "text/plain": [
              "Sequential(\n",
              "  (dropout1): Dropout(p=0.2, inplace=False)\n",
              "  (flatten): Flatten(start_dim=1, end_dim=-1)\n",
              "  (linear1): Linear(in_features=784, out_features=8192, bias=True)\n",
              "  (relu1): ReLU()\n",
              "  (dropout2): Dropout(p=0.7, inplace=False)\n",
              "  (linear2): Linear(in_features=8192, out_features=8192, bias=True)\n",
              "  (relu2): ReLU()\n",
              "  (dropout3): Dropout(p=0.7, inplace=False)\n",
              "  (linear3): Linear(in_features=8192, out_features=8192, bias=True)\n",
              "  (relu3): ReLU()\n",
              "  (dropout4): Dropout(p=0.7, inplace=False)\n",
              "  (linear4): Linear(in_features=8192, out_features=10, bias=True)\n",
              ")"
            ]
          },
          "metadata": {},
          "execution_count": 10
        }
      ],
      "source": [
        "torch.cuda.empty_cache()\n",
        "device = torch.device(\"cuda\" if torch.cuda.is_available() else \"cpu\")\n",
        "#torch.cuda.set_per_process_memory_fraction(0.8, device=device.index)\n",
        "net.to(device)"
      ]
    },
    {
      "cell_type": "code",
      "execution_count": 11,
      "id": "27664ee0-1cad-4c1e-bf29-359e32801d03",
      "metadata": {
        "colab": {
          "base_uri": "https://localhost:8080/",
          "height": 419
        },
        "id": "27664ee0-1cad-4c1e-bf29-359e32801d03",
        "outputId": "68c02042-ff0e-49af-85ce-6827c4bfacff"
      },
      "outputs": [
        {
          "output_type": "stream",
          "name": "stdout",
          "text": [
            "Epoch 1/625, Train Loss: 13.8679, Train Acc: 0.3423, Valid Loss: 0.8555, Valid Acc: 0.8488\n",
            "Epoch 101/625, Train Loss: 0.1224, Train Acc: 0.9651, Valid Loss: 0.0805, Valid Acc: 0.9794\n"
          ]
        },
        {
          "output_type": "error",
          "ename": "KeyboardInterrupt",
          "evalue": "ignored",
          "traceback": [
            "\u001b[0;31m---------------------------------------------------------------------------\u001b[0m",
            "\u001b[0;31mKeyboardInterrupt\u001b[0m                         Traceback (most recent call last)",
            "\u001b[0;32m<ipython-input-11-d5d154750862>\u001b[0m in \u001b[0;36m<cell line: 5>\u001b[0;34m()\u001b[0m\n\u001b[1;32m     15\u001b[0m         \u001b[0moutputs\u001b[0m \u001b[0;34m=\u001b[0m \u001b[0mnet\u001b[0m\u001b[0;34m(\u001b[0m\u001b[0minputs\u001b[0m\u001b[0;34m)\u001b[0m\u001b[0;34m\u001b[0m\u001b[0;34m\u001b[0m\u001b[0m\n\u001b[1;32m     16\u001b[0m         \u001b[0mloss\u001b[0m \u001b[0;34m=\u001b[0m \u001b[0mcriterion\u001b[0m\u001b[0;34m(\u001b[0m\u001b[0moutputs\u001b[0m\u001b[0;34m,\u001b[0m \u001b[0mlabels\u001b[0m\u001b[0;34m)\u001b[0m\u001b[0;34m\u001b[0m\u001b[0;34m\u001b[0m\u001b[0m\n\u001b[0;32m---> 17\u001b[0;31m         \u001b[0mloss\u001b[0m\u001b[0;34m.\u001b[0m\u001b[0mbackward\u001b[0m\u001b[0;34m(\u001b[0m\u001b[0;34m)\u001b[0m\u001b[0;34m\u001b[0m\u001b[0;34m\u001b[0m\u001b[0m\n\u001b[0m\u001b[1;32m     18\u001b[0m \u001b[0;34m\u001b[0m\u001b[0m\n\u001b[1;32m     19\u001b[0m         \u001b[0;31m# Apply max norm constraint to the gradients\u001b[0m\u001b[0;34m\u001b[0m\u001b[0;34m\u001b[0m\u001b[0m\n",
            "\u001b[0;32m/usr/local/lib/python3.10/dist-packages/torch/_tensor.py\u001b[0m in \u001b[0;36mbackward\u001b[0;34m(self, gradient, retain_graph, create_graph, inputs)\u001b[0m\n\u001b[1;32m    431\u001b[0m         \u001b[0;32mreturn\u001b[0m \u001b[0mtorch\u001b[0m\u001b[0;34m.\u001b[0m\u001b[0m_tensor_str\u001b[0m\u001b[0;34m.\u001b[0m\u001b[0m_str\u001b[0m\u001b[0;34m(\u001b[0m\u001b[0mself\u001b[0m\u001b[0;34m,\u001b[0m \u001b[0mtensor_contents\u001b[0m\u001b[0;34m=\u001b[0m\u001b[0mtensor_contents\u001b[0m\u001b[0;34m)\u001b[0m\u001b[0;34m\u001b[0m\u001b[0;34m\u001b[0m\u001b[0m\n\u001b[1;32m    432\u001b[0m \u001b[0;34m\u001b[0m\u001b[0m\n\u001b[0;32m--> 433\u001b[0;31m     def backward(\n\u001b[0m\u001b[1;32m    434\u001b[0m         \u001b[0mself\u001b[0m\u001b[0;34m,\u001b[0m \u001b[0mgradient\u001b[0m\u001b[0;34m=\u001b[0m\u001b[0;32mNone\u001b[0m\u001b[0;34m,\u001b[0m \u001b[0mretain_graph\u001b[0m\u001b[0;34m=\u001b[0m\u001b[0;32mNone\u001b[0m\u001b[0;34m,\u001b[0m \u001b[0mcreate_graph\u001b[0m\u001b[0;34m=\u001b[0m\u001b[0;32mFalse\u001b[0m\u001b[0;34m,\u001b[0m \u001b[0minputs\u001b[0m\u001b[0;34m=\u001b[0m\u001b[0;32mNone\u001b[0m\u001b[0;34m\u001b[0m\u001b[0;34m\u001b[0m\u001b[0m\n\u001b[1;32m    435\u001b[0m     ):\n",
            "\u001b[0;31mKeyboardInterrupt\u001b[0m: "
          ]
        }
      ],
      "source": [
        "num_epochs = 625\n",
        "seed = 42\n",
        "torch.manual_seed(seed)\n",
        "\n",
        "for epoch in range(num_epochs):\n",
        "    net.train()\n",
        "    running_loss = 0.0\n",
        "    correct_train = 0\n",
        "    total_train = 0\n",
        "\n",
        "    for inputs, labels in train_loader:\n",
        "        optimizer.zero_grad()\n",
        "        inputs = inputs.float()\n",
        "        inputs, labels = inputs.to(device), labels.to(device)\n",
        "        outputs = net(inputs)\n",
        "        loss = criterion(outputs, labels)\n",
        "        loss.backward()\n",
        "\n",
        "        # Apply max norm constraint to the gradients\n",
        "        max_norm = 1.0  # Set your desired max norm value\n",
        "        for name, param in net.named_parameters():\n",
        "            if 'weight' in name:\n",
        "                utils.clip_grad_norm_(param, max_norm)\n",
        "\n",
        "        optimizer.step()\n",
        "\n",
        "        running_loss += loss.item()\n",
        "\n",
        "        _, predicted = torch.max(outputs, 1)\n",
        "        total_train += labels.size(0)\n",
        "        correct_train += (predicted == labels).sum().item()\n",
        "\n",
        "    train_accuracy = correct_train / total_train\n",
        "    train_loss = running_loss / len(train_loader)\n",
        "\n",
        "    # Validation Loop\n",
        "    net.eval()\n",
        "    running_loss_valid = 0.0\n",
        "    correct_valid = 0\n",
        "    total_valid = 0\n",
        "\n",
        "    with torch.no_grad():\n",
        "        for inputs_valid, labels_valid in valid_loader:\n",
        "            inputs_valid = inputs_valid.float()\n",
        "            inputs_valid, labels_valid = inputs_valid.to(device), labels_valid.to(device)\n",
        "            outputs_valid = net(inputs_valid)\n",
        "            loss_valid = criterion(outputs_valid, labels_valid)\n",
        "            running_loss_valid += loss_valid.item()\n",
        "\n",
        "            _, predicted_valid = torch.max(outputs_valid.data, 1)\n",
        "            total_valid += labels_valid.size(0)\n",
        "            correct_valid += (predicted_valid == labels_valid).sum().item()\n",
        "\n",
        "    valid_accuracy = correct_valid / total_valid\n",
        "    valid_loss = running_loss_valid / len(valid_loader)\n",
        "\n",
        "    train_loss_list7.append(train_loss)\n",
        "    train_acc_list7.append(train_accuracy)\n",
        "    valid_loss_list7.append(valid_loss)\n",
        "    valid_acc_list7.append(valid_accuracy)\n",
        "\n",
        "    if epoch%100==0:\n",
        "        print(f'Epoch {epoch + 1}/{num_epochs}, ' +\n",
        "              f'Train Loss: {train_loss:.4f}, Train Acc: {train_accuracy:.4f}, ' +\n",
        "              f'Valid Loss: {valid_loss:.4f}, Valid Acc: {valid_accuracy:.4f}')\n",
        "\n",
        "print('Finished Training')"
      ]
    },
    {
      "cell_type": "code",
      "execution_count": 12,
      "id": "fd02ad4e-8973-439d-b8be-bee19dd424a1",
      "metadata": {
        "colab": {
          "base_uri": "https://localhost:8080/",
          "height": 564
        },
        "id": "fd02ad4e-8973-439d-b8be-bee19dd424a1",
        "outputId": "c95954cc-2717-4148-9c7f-a221f0253472"
      },
      "outputs": [
        {
          "output_type": "display_data",
          "data": {
            "text/plain": [
              "<Figure size 800x600 with 1 Axes>"
            ],
            "image/png": "[encoded data removed]"
          },
          "metadata": {}
        }
      ],
      "source": [
        "plt.figure(figsize=(8, 6))\n",
        "plt.plot(train_acc_list7, label='Train Accuracy', lw=3)\n",
        "plt.plot(valid_acc_list7, label='Validation Accuracy', lw=3)\n",
        "plt.xlabel('Epoch')\n",
        "plt.ylabel('Accuracy')\n",
        "plt.title('Train and Validation Accuracy Curves')\n",
        "plt.legend()\n",
        "plt.show()"
      ]
    },
    {
      "cell_type": "code",
      "execution_count": 13,
      "id": "95d86e2a-ea2f-41b5-9ace-9cb063eb1cc0",
      "metadata": {
        "colab": {
          "base_uri": "https://localhost:8080/",
          "height": 564
        },
        "id": "95d86e2a-ea2f-41b5-9ace-9cb063eb1cc0",
        "outputId": "7bbaecd8-5c6a-4d33-d46f-3c4b63d12a99"
      },
      "outputs": [
        {
          "output_type": "display_data",
          "data": {
            "text/plain": [
              "<Figure size 800x600 with 1 Axes>"
            ],
            "image/png": "[encoded data removed]"
          },
          "metadata": {}
        }
      ],
      "source": [
        "plt.figure(figsize=(8, 6))\n",
        "plt.plot(train_loss_list7, label='Train Loss', lw=3)\n",
        "plt.plot(valid_loss_list7, label='Validation Loss', lw=3)\n",
        "plt.xlabel('Epoch')\n",
        "plt.ylabel('Loss')\n",
        "plt.title('Train and Validation Loss Curves')\n",
        "plt.legend()\n",
        "plt.show()"
      ]
    },
    {
      "cell_type": "code",
      "execution_count": 14,
      "id": "e6b4517b-ab99-4aba-92a9-96e8d8e41f79",
      "metadata": {
        "colab": {
          "base_uri": "https://localhost:8080/"
        },
        "id": "e6b4517b-ab99-4aba-92a9-96e8d8e41f79",
        "outputId": "2e9c6db3-7895-4dce-ecf4-d13c7257b6bb"
      },
      "outputs": [
        {
          "output_type": "stream",
          "name": "stdout",
          "text": [
            "Test Loss: 0.0707, Test Acc: 0.9840\n"
          ]
        }
      ],
      "source": [
        "net.eval()\n",
        "running_loss_test = 0.0\n",
        "correct_test = 0\n",
        "total_test = 0\n",
        "\n",
        "with torch.no_grad():\n",
        "    for inputs_test, labels_test in test_loader:\n",
        "        inputs_test = inputs_test.float()\n",
        "        inputs_test, labels_test = inputs_test.to(device), labels_test.to(device)\n",
        "        outputs_test = net(inputs_test)\n",
        "        loss_test = criterion(outputs_test, labels_test)\n",
        "        running_loss_test += loss_test.item()\n",
        "\n",
        "        _, predicted_test = torch.max(outputs_test.data, 1)\n",
        "        total_test += labels_test.size(0)\n",
        "        correct_test += (predicted_test == labels_test).sum().item()\n",
        "\n",
        "test_accuracy = correct_test / total_test\n",
        "test_loss = running_loss_test / len(test_loader)\n",
        "\n",
        "print(f'Test Loss: {test_loss:.4f}, Test Acc: {test_accuracy:.4f}')\n",
        "\n"
      ]
    },
    {
      "cell_type": "code",
      "execution_count": null,
      "id": "a75647be-e49c-474a-9657-1d9213cc4689",
      "metadata": {
        "tags": [],
        "id": "a75647be-e49c-474a-9657-1d9213cc4689"
      },
      "outputs": [],
      "source": [
        "results_temp = pd.DataFrame(\n",
        "    [[\n",
        "        'Dropout NN + Max (ReLu, 8192)',\n",
        "        test_accuracy,\n",
        "        test_loss\n",
        "    ]],\n",
        "    columns=['Model', 'Accuracy', 'Loss']\n",
        ")\n",
        "\n",
        "results = pd.concat([results, results_temp], ignore_index=True)\n",
        "results"
      ]
    },
    {
      "cell_type": "code",
      "execution_count": null,
      "id": "39a08c95-9dc2-44ee-a072-63df993723e9",
      "metadata": {
        "id": "39a08c95-9dc2-44ee-a072-63df993723e9"
      },
      "outputs": [],
      "source": [
        "data = {\n",
        "    'Train Loss': train_loss_list7,\n",
        "    'Train Accuracy': train_acc_list7,\n",
        "    'Validation Loss': valid_loss_list7,\n",
        "    'Validation Accuracy': valid_acc_list7\n",
        "}\n",
        "\n",
        "# Convert the dictionary to a DataFrame\n",
        "df = pd.DataFrame(data)\n",
        "\n",
        "# Specify the filename\n",
        "filename = 'mnist_dropout_max_relu4.csv'\n",
        "\n",
        "# Write to a CSV file\n",
        "df.to_csv(filename, index=False)"
      ]
    }
  ],
  "metadata": {
    "kernelspec": {
      "display_name": "Python 3",
      "name": "python3"
    },
    "language_info": {
      "codemirror_mode": {
        "name": "ipython",
        "version": 3
      },
      "file_extension": ".py",
      "mimetype": "text/x-python",
      "name": "python",
      "nbconvert_exporter": "python",
      "pygments_lexer": "ipython3",
      "version": "3.11.5"
    },
    "colab": {
      "provenance": [],
      "machine_shape": "hm",
      "gpuType": "A100"
    },
    "accelerator": "GPU"
  },
  "nbformat": 4,
  "nbformat_minor": 5
}